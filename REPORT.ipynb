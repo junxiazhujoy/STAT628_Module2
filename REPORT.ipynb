{
 "cells": [
  {
   "cell_type": "markdown",
   "metadata": {},
   "source": [
    "introduction background information thesis statement \n",
    "motivation for the models used and statement of the models\n",
    "summary about estimation and inference of relevant parameters, estimated coefficients,R2,SE CI,p,H0\n",
    "interpretion \n",
    "check model assumptions and use model diagnostics"
   ]
  },
  {
   "cell_type": "markdown",
   "metadata": {},
   "source": [
    "Introduction:\n",
    "    In this project, we analysed yelp data focusing on bars in Las Vegas. We aimed to explore which factors influenced bars' ratings of reviews and furthermore, give advice to bar owners for improving the ratings. Our work could be mainly divided to two parts: keys word analysis from reviews and feature extraction from attributes. For the first part, We use Python to do nature language provessing finding meaningful key words. For the latter, we applied random forest algorithm and used ANOVA. We interpreted the factors and made suggesstions due to outcomes. Besides, we also construct prediction models to achieve a \"bonus\" goal for predicting ratings."
   ]
  },
  {
   "cell_type": "markdown",
   "metadata": {},
   "source": [
    "Background:\n",
    "     The Yelp dataset provided by Yelp as JSON files has more than 5000000 reviews for more than 30000 business. After filtered by \"bars\" and \"nightlife\" to fit our thesis, the total data involved in the project includes about 26000 reviews for 1000 bars. "
   ]
  },
  {
   "cell_type": "markdown",
   "metadata": {},
   "source": [
    "Reviews:\n",
    "    data cleaning: \n",
    "    1. To deal with negative tone in reviews, we check each sentences and add \"NOT\" to each word in those sentences.\n",
    "    2. As what we cared about is text, so we removed punctuations and meaningless symbols. For each word, we do stemming which could avoid different word forms caused by tense, singular and plural. Then we were able to break each reviews to words and counted frequency.\n",
    "    3. In the word lists, some words like \"is\", \"the\" actually make no sense so we constructed a stopword list to remove all these useless word.\n",
    "    key words analysis:\n",
    "    We first chose key words from four aspects: food, beverage, entertainment and service. To be more specific for our bar data analysis, we picked words exclusive to bars like \"beer\", \"cocktail\", \"strip\", \"casino\", plotted histograms of each stars to see if there existed special patterns. \n",
    "    Here, to deviod baseline differences' influence of star distributions, we choose TFIDF to transfer the frequency to rates.\n",
    "    After we defined our important words, we then do deeper exploration extracting bigrams for more detailed analysis. The selected bigrams for further study are \"craft beer\", \"draft beer\" and \"beer selection\". \n",
    "    To make our conclusions easily understandable, we made a shiny app to visualize our results. Here is the link for the shiny app: xxxxxxxxxxxxxxxxxxxxxxxxxxxxxxxxxxxxxxxxxxxxxxxxxx\n",
    "    \n",
    "    "
   ]
  },
  {
   "cell_type": "markdown",
   "metadata": {},
   "source": [
    "Attributes:\n",
    "    We calcualted average star of all reviews for each bar and set the average stars as our response variables to see the relationships between ratings and attributes.\n",
    "    Here we used random forest computing variable importance scores to select useful attributes. \"\" and \"\" are of the top importance, which means these two attributes are highly related to ratings. It is also confirmed by one-way ANOVA since the p-value of both tests are extremely small. However, from the random forest results, we can not identify the influence of missing values, so we applied decision tree method using GUIDE-a software for machine learning. The tree plot is as below\n",
    "    TODO: Insert the tree plot\n",
    "    The plot gave us insights about how missing value related to ratings. TODO: detailed explanation\n",
    "    \n",
    "    TODO:whether add estimation and inference of relevant parameters, estimated coefficients,R2,SE CI,p,H0 "
   ]
  },
  {
   "cell_type": "markdown",
   "metadata": {},
   "source": [
    "For Goal2, we combined features extracted from both files, reviews and attributes. We made dataframe with columns of key words and attibutes and constructed several models to predict. \n",
    "    TODO: insert tables of methods and prediction error."
   ]
  },
  {
   "cell_type": "markdown",
   "metadata": {},
   "source": [
    "Strength and Weakness\n",
    "    Strength:\n",
    "    1. Carefully deal with the reviews and take care of different baselines.\n",
    "    2. Use several methods to confirm our results, which makes our conclusion robust.\n",
    "    3. Consider NA as a level to see whether it makes differences but not simply omit them.\n",
    "    Weakness:\n",
    "    1. Fail to find patterns in time and hour analysis, which may need more careful inspectation.\n",
    "    2. Hard to interpret tree method outcome objectively more out of subjective analysis.\n"
   ]
  },
  {
   "cell_type": "markdown",
   "metadata": {},
   "source": []
  },
  {
   "cell_type": "markdown",
   "metadata": {},
   "source": []
  }
 ],
 "metadata": {
  "kernelspec": {
   "display_name": "Python 3",
   "language": "python",
   "name": "python3"
  },
  "language_info": {
   "codemirror_mode": {
    "name": "ipython",
    "version": 3
   },
   "file_extension": ".py",
   "mimetype": "text/x-python",
   "name": "python",
   "nbconvert_exporter": "python",
   "pygments_lexer": "ipython3",
   "version": "3.7.1"
  }
 },
 "nbformat": 4,
 "nbformat_minor": 2
}
