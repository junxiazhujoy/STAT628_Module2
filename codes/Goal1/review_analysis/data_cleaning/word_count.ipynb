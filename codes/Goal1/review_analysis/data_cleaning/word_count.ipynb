{
 "cells": [
  {
   "cell_type": "code",
   "execution_count": 1,
   "metadata": {},
   "outputs": [],
   "source": [
    "import pandas as pd\n",
    "import numpy as np\n",
    "import json \n",
    "import copy\n",
    "import csv\n",
    "import os\n",
    "import re\n",
    "import nltk\n",
    "import nltk\n",
    "from nltk.corpus import stopwords\n",
    "import sklearn\n",
    "from nltk.stem import PorterStemmer\n",
    "from stemming.porter2 import stem"
   ]
  },
  {
   "cell_type": "code",
   "execution_count": 2,
   "metadata": {},
   "outputs": [],
   "source": [
    "data = [] \n",
    "cf = open('bars_rev_tr_df.csv','r')\n",
    "\n",
    "file = csv.DictReader(cf)\n",
    "#print(file.fieldnames)\n",
    "\n",
    "for x in file:\n",
    "    line = {'business_id':x['business_id'],'date':x['date'],'stars':x['stars'],'text':x['text']}\n",
    "    data.append(line)\n",
    "\n",
    "cf.close()"
   ]
  },
  {
   "cell_type": "code",
   "execution_count": 3,
   "metadata": {},
   "outputs": [],
   "source": [
    "id = open('uniq_id_lvbars.txt','r')\n",
    "id_str=id.read()\n",
    "id.close()\n",
    "id_list=id_str.split(',')"
   ]
  },
  {
   "cell_type": "code",
   "execution_count": 4,
   "metadata": {},
   "outputs": [],
   "source": [
    "dat_night=[]\n",
    "for i in range(len(data)):\n",
    "    if data[i]['business_id'] in id_list:\n",
    "        dat_night.append(data[i])"
   ]
  },
  {
   "cell_type": "code",
   "execution_count": 5,
   "metadata": {},
   "outputs": [],
   "source": [
    "dat_night_5star=[]\n",
    "dat_night_4star=[]\n",
    "dat_night_3star=[]\n",
    "dat_night_2star=[]\n",
    "dat_night_1star=[]\n",
    "for i in range(len(dat_night)):\n",
    "    if dat_night[i]['stars']=='5':\n",
    "        dat_night_5star.append(dat_night[i])\n",
    "    elif dat_night[i]['stars']=='4':\n",
    "        dat_night_4star.append(dat_night[i])\n",
    "    elif dat_night[i]['stars']=='3':\n",
    "        dat_night_3star.append(dat_night[i])\n",
    "    elif dat_night[i]['stars']=='2':\n",
    "        dat_night_2star.append(dat_night[i])\n",
    "    else:\n",
    "        dat_night_1star.append(dat_night[i])\n"
   ]
  },
  {
   "cell_type": "code",
   "execution_count": 17,
   "metadata": {},
   "outputs": [
    {
     "data": {
      "text/plain": [
       "4337786"
      ]
     },
     "execution_count": 17,
     "metadata": {},
     "output_type": "execute_result"
    }
   ],
   "source": [
    "count1=0\n",
    "for i in range(len(dat_night_1star)):\n",
    "    count1+=len(dat_night_1star[i]['text'].split())\n",
    "count1"
   ]
  },
  {
   "cell_type": "code",
   "execution_count": 18,
   "metadata": {},
   "outputs": [
    {
     "data": {
      "text/plain": [
       "3513632"
      ]
     },
     "execution_count": 18,
     "metadata": {},
     "output_type": "execute_result"
    }
   ],
   "source": [
    "count2=0\n",
    "for i in range(len(dat_night_2star)):\n",
    "    count2+=len(dat_night_2star[i]['text'].split())\n",
    "count2"
   ]
  },
  {
   "cell_type": "code",
   "execution_count": 19,
   "metadata": {},
   "outputs": [
    {
     "data": {
      "text/plain": [
       "4763659"
      ]
     },
     "execution_count": 19,
     "metadata": {},
     "output_type": "execute_result"
    }
   ],
   "source": [
    "count3=0\n",
    "for i in range(len(dat_night_3star)):\n",
    "    count3+=len(dat_night_3star[i]['text'].split())\n",
    "count3"
   ]
  },
  {
   "cell_type": "code",
   "execution_count": 20,
   "metadata": {},
   "outputs": [
    {
     "data": {
      "text/plain": [
       "8328480"
      ]
     },
     "execution_count": 20,
     "metadata": {},
     "output_type": "execute_result"
    }
   ],
   "source": [
    "count4=0\n",
    "for i in range(len(dat_night_4star)):\n",
    "    count4+=len(dat_night_4star[i]['text'].split())\n",
    "count4"
   ]
  },
  {
   "cell_type": "code",
   "execution_count": 21,
   "metadata": {},
   "outputs": [
    {
     "data": {
      "text/plain": [
       "10839807"
      ]
     },
     "execution_count": 21,
     "metadata": {},
     "output_type": "execute_result"
    }
   ],
   "source": [
    "count5=0\n",
    "for i in range(len(dat_night_5star)):\n",
    "    count5+=len(dat_night_5star[i]['text'].split())\n",
    "count5"
   ]
  },
  {
   "cell_type": "code",
   "execution_count": null,
   "metadata": {},
   "outputs": [],
   "source": []
  }
 ],
 "metadata": {
  "kernelspec": {
   "display_name": "Python 3",
   "language": "python",
   "name": "python3"
  },
  "language_info": {
   "codemirror_mode": {
    "name": "ipython",
    "version": 3
   },
   "file_extension": ".py",
   "mimetype": "text/x-python",
   "name": "python",
   "nbconvert_exporter": "python",
   "pygments_lexer": "ipython3",
   "version": "3.7.1"
  }
 },
 "nbformat": 4,
 "nbformat_minor": 2
}
