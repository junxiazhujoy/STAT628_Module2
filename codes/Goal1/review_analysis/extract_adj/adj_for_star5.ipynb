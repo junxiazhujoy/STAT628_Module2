{
 "cells": [
  {
   "cell_type": "code",
   "execution_count": 1,
   "metadata": {},
   "outputs": [],
   "source": [
    "import pandas as pd\n",
    "import numpy as np\n",
    "import json \n",
    "import copy\n",
    "import csv\n",
    "import os\n",
    "import re\n",
    "import nltk\n",
    "import nltk\n",
    "from nltk.corpus import stopwords\n",
    "import sklearn\n",
    "from nltk.stem import PorterStemmer\n",
    "from stemming.porter2 import stem"
   ]
  },
  {
   "cell_type": "markdown",
   "metadata": {},
   "source": [
    "# load our pos/neg corpus and data"
   ]
  },
  {
   "cell_type": "code",
   "execution_count": 2,
   "metadata": {},
   "outputs": [],
   "source": [
    "pos=list(set(open(\"positive.txt\", 'r').read().split('\\',\\'')))"
   ]
  },
  {
   "cell_type": "code",
   "execution_count": 3,
   "metadata": {},
   "outputs": [],
   "source": [
    "neg=list(set(open(\"negative.txt\", 'r').read().split('\\',\\'')))"
   ]
  },
  {
   "cell_type": "code",
   "execution_count": 4,
   "metadata": {},
   "outputs": [],
   "source": [
    "pos.remove('poor')"
   ]
  },
  {
   "cell_type": "code",
   "execution_count": 5,
   "metadata": {},
   "outputs": [],
   "source": [
    "for i in range(len(pos)):\n",
    "    temp=str('NOT_'+str(pos[i]))\n",
    "    neg.append(temp)"
   ]
  },
  {
   "cell_type": "code",
   "execution_count": 6,
   "metadata": {},
   "outputs": [],
   "source": [
    "data = [] \n",
    "cf = open('bars_rev_tr_df.csv','r')\n",
    "\n",
    "file = csv.DictReader(cf)\n",
    "#print(file.fieldnames)\n",
    "\n",
    "for x in file:\n",
    "    line = {'business_id':x['business_id'],'date':x['date'],'stars':x['stars'],'text':x['text']}\n",
    "    data.append(line)\n",
    "\n",
    "cf.close()"
   ]
  },
  {
   "cell_type": "code",
   "execution_count": 7,
   "metadata": {},
   "outputs": [],
   "source": [
    "id = open('uniq_id_lvbars.txt','r')\n",
    "id_str=id.read()\n",
    "id.close()"
   ]
  },
  {
   "cell_type": "code",
   "execution_count": 8,
   "metadata": {},
   "outputs": [],
   "source": [
    "id_list=id_str.split(',')"
   ]
  },
  {
   "cell_type": "code",
   "execution_count": 9,
   "metadata": {},
   "outputs": [],
   "source": [
    "dat_night=[]\n",
    "for i in range(len(data)):\n",
    "    if data[i]['business_id'] in id_list:\n",
    "        dat_night.append(data[i])"
   ]
  },
  {
   "cell_type": "code",
   "execution_count": 10,
   "metadata": {},
   "outputs": [],
   "source": [
    "dat_night_5star=[]\n",
    "dat_night_4star=[]\n",
    "dat_night_3star=[]\n",
    "dat_night_2star=[]\n",
    "dat_night_1star=[]\n",
    "for i in range(len(dat_night)):\n",
    "    if dat_night[i]['stars']=='5':\n",
    "        dat_night_5star.append(dat_night[i])\n",
    "    elif dat_night[i]['stars']=='4':\n",
    "        dat_night_4star.append(dat_night[i])\n",
    "    elif dat_night[i]['stars']=='3':\n",
    "        dat_night_3star.append(dat_night[i])\n",
    "    elif dat_night[i]['stars']=='2':\n",
    "        dat_night_2star.append(dat_night[i])\n",
    "    else:\n",
    "        dat_night_1star.append(dat_night[i])\n",
    "\n"
   ]
  },
  {
   "cell_type": "markdown",
   "metadata": {},
   "source": [
    "# Extract adj for star level 5"
   ]
  },
  {
   "cell_type": "code",
   "execution_count": 11,
   "metadata": {},
   "outputs": [],
   "source": [
    "reviewslist = copy.deepcopy(dat_night_5star)\n",
    "REPLACE_NO_SPACE = re.compile(\"(\\.)|(\\;)|(\\:)|(\\!)|(\\')|(\\?)|(\\,)|(\\\")|(\\()|(\\))|(\\[)|(\\])|(\\$)|(\\*)|(\\%)|(\\_)|(\\=)|(\\#)|(\\&)|(\\~)|(\\@)\")#[^\\P{P}-]+\n",
    "REPLACE_WITH_SPACE = re.compile(\"(\\n)|(\\-)|(\\/)|(\\d)\")\n",
    "\n",
    "def preprocess_reviews(reviews):\n",
    "    reviews = REPLACE_NO_SPACE.sub(\"\", reviews)\n",
    "    reviews = REPLACE_WITH_SPACE.sub(\" \", reviews)\n",
    "    return reviews\n",
    "\n",
    "reviewsTEXT_clean = copy.deepcopy(reviewslist)\n",
    "\n",
    "\n",
    "for ind in range(len(reviewslist)):\n",
    "    texts = ''\n",
    "    texts = reviewslist[ind]['text']\n",
    "    texts = texts.lower()\n",
    "    \n",
    "    texts = re.sub('n\\'t',' not', texts)\n",
    "    \n",
    "    texts = re.sub('isnt','isn\\'t', texts)\n",
    "    texts = re.sub('wasnt','wasn\\'t', texts)\n",
    "    texts = re.sub('werent','weren\\'t', texts)\n",
    "    texts = re.sub('dont','don\\'t', texts)\n",
    "    texts = re.sub('doesnt','doesn\\'t', texts)\n",
    "    texts = re.sub('didnt','didn\\'t', texts)\n",
    "    texts = re.sub('hasnt','hasn\\'t', texts)\n",
    "    texts = re.sub('havent','haven\\'t', texts)\n",
    "    texts = re.sub('hadnt','hadn\\'t', texts)\n",
    "    texts = re.sub('mightnt','mightn\\'t', texts)\n",
    "    texts = re.sub('shouldnt','shouldn\\'t', texts)\n",
    "    texts = re.sub('isn','isn\\'t', texts)\n",
    "    texts = re.sub('wasn','wasn\\'t', texts)\n",
    "    texts = re.sub('weren','weren\\'t', texts)\n",
    "    texts = re.sub('don','don\\'t', texts)\n",
    "    texts = re.sub('doesn','doesn\\'t', texts)\n",
    "    texts = re.sub('didn','didn\\'t', texts)\n",
    "    texts = re.sub('hasn','hasn\\'t', texts)\n",
    "    texts = re.sub('haven','haven\\'t', texts)\n",
    "    texts = re.sub('hadn','hadn\\'t', texts)\n",
    "    texts = re.sub('mightn','mightn\\'t', texts)\n",
    "    texts = re.sub('shouldn','shouldn\\'t', texts)\n",
    "    texts = re.sub('won\\'t','will not', texts)\n",
    "    \n",
    "    texts = re.sub('n\\'t',' not', texts)\n",
    "    \n",
    "    #add NOT_\n",
    "    pattern = r'\\.|\\;|\\!|\\?|\\,|\\)|\\(|\\:|\\'|\\\"|\\%'\n",
    "    list_text=re.split(pattern,texts)\n",
    "    \n",
    "    sent=''\n",
    "    for i in range(len(list_text)):\n",
    "        list_text[i] = re.sub('\\+','', list_text[i])\n",
    "        list_text[i] = re.sub('\\*','', list_text[i])\n",
    "        list_text[i] = re.sub('\\$','', list_text[i])\n",
    "        list_text[i] = re.sub('\\[','', list_text[i])\n",
    "        list_text[i] = re.sub('\\]','', list_text[i])\n",
    "        list_text[i] = re.sub('\\%','', list_text[i])\n",
    "        list_text[i] = re.sub('\\\\\\\\',' ', list_text[i])\n",
    "        matchObj1 = re.search(r'(.*)not (.*)',list_text[i])\n",
    "        matchObj2 = re.search(r'(.*) never (.*)',list_text[i])\n",
    "        \n",
    "        if matchObj1 != None :\n",
    "            sub=re.sub(r' ', \" NOT_\", ' '+matchObj1.group(2))\n",
    "            list_text[i] = re.sub(matchObj1.group(2) ,sub, list_text[i])\n",
    "            list_text[i] = re.sub(r'not ','', list_text[i],1)\n",
    "            #list_text[i] = re.sub(',',' ', matchObj1.group(3))\n",
    "            sent = sent + list_text[i] + ' '\n",
    "        \n",
    "        elif matchObj2 != None :\n",
    "            sub=re.sub(r' ', \" NOT_\", ' '+matchObj2.group(2))\n",
    "            list_text[i] = re.sub(matchObj2.group(2) ,sub, list_text[i])\n",
    "            list_text[i] = re.sub(r'never ','', list_text[i],1)\n",
    "            #list_text[i] = re.sub(',',' ', matchObj1.group(3))\n",
    "            sent = sent + list_text[i] + ' '\n",
    "        \n",
    "        else:\n",
    "            sent = sent + list_text[i] + ' '\n",
    "   \n",
    "    text_clean=preprocess_reviews(sent)\n",
    "    rvs2 = \" \".join([stem(word) for word in text_clean.split(\" \")])\n",
    "    \n",
    "    reviewsTEXT_clean[ind]['text']=rvs2\n",
    "    reviewsTEXT_clean[ind]['text_split']=rvs2.split()\n",
    "    \n",
    "#reviewsTEXT_clean[0]"
   ]
  },
  {
   "cell_type": "markdown",
   "metadata": {},
   "source": [
    "## cocktail"
   ]
  },
  {
   "cell_type": "code",
   "execution_count": 12,
   "metadata": {},
   "outputs": [],
   "source": [
    "count_pos=0\n",
    "count_neg=0\n",
    "list_pos=[]\n",
    "list_neg=[]\n",
    "    \n",
    "for i in range(len(reviewsTEXT_clean)):\n",
    "    if 'cocktail' in reviewsTEXT_clean[i]['text_split']:\n",
    "#        print(reviewsTEXT_clean[i]['text'])\n",
    "        temp=reviewsTEXT_clean[i]['text_split']\n",
    "        index_list=[p for p,x in enumerate(temp) if x=='cocktail']\n",
    "        for index in index_list:\n",
    "            if (index-2 >= 0) and (temp[index-2] in pos):\n",
    "                count_pos+=1\n",
    "                list_pos.append(temp[index-2])\n",
    "            elif (index-2 >= 0) and (temp[index-2] in neg):\n",
    "                count_neg+=1\n",
    "                list_neg.append(temp[index-2])           \n",
    "            if (index-1 >= 0) and (temp[index-1] in pos):\n",
    "                count_pos+=1\n",
    "                list_pos.append(temp[index-1])\n",
    "            elif (index-1 >= 0) and (temp[index-1] in neg):\n",
    "                count_neg+=1\n",
    "                list_neg.append(temp[index-1])            \n",
    "            if (index+2 <= len(temp)) and (temp[index+1] in pos):\n",
    "                count_pos+=1\n",
    "                list_pos.append(temp[index+1])\n",
    "            elif (index+2 <= len(temp)) and (temp[index+1] in neg):\n",
    "                count_neg+=1\n",
    "                list_neg.append(temp[index+1])           \n",
    "            if (index+3 <= len(temp)) and (temp[index+2] in pos):\n",
    "                count_pos+=1\n",
    "                list_pos.append(temp[index+2])\n",
    "            elif (index+3 <= len(temp)) and (temp[index+2] in neg):\n",
    "                count_neg+=1\n",
    "                list_neg.append(temp[index+2])\n"
   ]
  },
  {
   "cell_type": "code",
   "execution_count": 13,
   "metadata": {},
   "outputs": [
    {
     "name": "stdout",
     "output_type": "stream",
     "text": [
      "top5 positive adj near 'cocktail' is  ['great', 'well', 'best', 'good', 'pleasant']\n",
      "top5 negative adj near 'cocktail' is  ['old', 'cold', 'pricey', 'sour', 'small']\n"
     ]
    }
   ],
   "source": [
    "print('top5 positive adj near \\'cocktail\\' is ',list(nltk.FreqDist(list_pos).keys())[0:5])\n",
    "print('top5 negative adj near \\'cocktail\\' is ',list(nltk.FreqDist(list_neg).keys())[0:5])"
   ]
  },
  {
   "cell_type": "code",
   "execution_count": 14,
   "metadata": {},
   "outputs": [
    {
     "name": "stdout",
     "output_type": "stream",
     "text": [
      "count of positive adj near 'cocktail' is  1718\n",
      "count of negative adj near 'cocktail' is  102\n"
     ]
    }
   ],
   "source": [
    "print('count of positive adj near \\'cocktail\\' is ',count_pos)\n",
    "print('count of negative adj near \\'cocktail\\' is ',count_neg)"
   ]
  },
  {
   "cell_type": "markdown",
   "metadata": {},
   "source": [
    "## beer"
   ]
  },
  {
   "cell_type": "code",
   "execution_count": 15,
   "metadata": {},
   "outputs": [],
   "source": [
    "count_pos=0\n",
    "count_neg=0\n",
    "list_pos=[]\n",
    "list_neg=[]\n",
    "    \n",
    "for i in range(len(reviewsTEXT_clean)):\n",
    "    if 'beer' in reviewsTEXT_clean[i]['text_split']:\n",
    "#        print(reviewsTEXT_clean[i]['text'])\n",
    "        temp=reviewsTEXT_clean[i]['text_split']\n",
    "        index_list=[p for p,x in enumerate(temp) if x=='beer']\n",
    "        for index in index_list:\n",
    "            if (index-2 >= 0) and (temp[index-2] in pos):\n",
    "                count_pos+=1\n",
    "                list_pos.append(temp[index-2])\n",
    "            elif (index-2 >= 0) and (temp[index-2] in neg):\n",
    "                count_neg+=1\n",
    "                list_neg.append(temp[index-2])           \n",
    "            if (index-1 >= 0) and (temp[index-1] in pos):\n",
    "                count_pos+=1\n",
    "                list_pos.append(temp[index-1])\n",
    "            elif (index-1 >= 0) and (temp[index-1] in neg):\n",
    "                count_neg+=1\n",
    "                list_neg.append(temp[index-1])            \n",
    "            if (index+2 <= len(temp)) and (temp[index+1] in pos):\n",
    "                count_pos+=1\n",
    "                list_pos.append(temp[index+1])\n",
    "            elif (index+2 <= len(temp)) and (temp[index+1] in neg):\n",
    "                count_neg+=1\n",
    "                list_neg.append(temp[index+1])           \n",
    "            if (index+3 <= len(temp)) and (temp[index+2] in pos):\n",
    "                count_pos+=1\n",
    "                list_pos.append(temp[index+2])\n",
    "            elif (index+3 <= len(temp)) and (temp[index+2] in neg):\n",
    "                count_neg+=1\n",
    "                list_neg.append(temp[index+2])"
   ]
  },
  {
   "cell_type": "code",
   "execution_count": 16,
   "metadata": {},
   "outputs": [
    {
     "name": "stdout",
     "output_type": "stream",
     "text": [
      "top5 positive adj near 'beer' is  ['giant', 'well', 'huge', 'special', 'legit']\n",
      "top5 negative adj near 'beer' is  ['pricey', 'cold', 'random', 'sour', 'usual']\n"
     ]
    }
   ],
   "source": [
    "print('top5 positive adj near \\'beer\\' is ',list(nltk.FreqDist(list_pos).keys())[0:5])\n",
    "print('top5 negative adj near \\'beer\\' is ',list(nltk.FreqDist(list_neg).keys())[0:5])"
   ]
  },
  {
   "cell_type": "code",
   "execution_count": 17,
   "metadata": {},
   "outputs": [
    {
     "name": "stdout",
     "output_type": "stream",
     "text": [
      "count of positive adj near 'beer' is  2882\n",
      "count of negative adj near 'beer' is  431\n"
     ]
    }
   ],
   "source": [
    "print('count of positive adj near \\'beer\\' is ',count_pos)\n",
    "print('count of negative adj near \\'beer\\' is ',count_neg)"
   ]
  },
  {
   "cell_type": "markdown",
   "metadata": {},
   "source": [
    "## craft beer"
   ]
  },
  {
   "cell_type": "code",
   "execution_count": 18,
   "metadata": {},
   "outputs": [],
   "source": [
    "count_pos=0\n",
    "count_neg=0\n",
    "list_pos=[]\n",
    "list_neg=[]\n",
    "    \n",
    "for i in range(len(reviewsTEXT_clean)):\n",
    "    if 'craft beer' in reviewsTEXT_clean[i]['text']:\n",
    "#        print(reviewsTEXT_clean[i]['text'])\n",
    "        temp=reviewsTEXT_clean[i]['text_split']\n",
    "        index_list=[p for p,x in enumerate(temp) if x=='craft']\n",
    "        for index in index_list:\n",
    "            if (index-2 >= 0) and (temp[index-2] in pos):\n",
    "                count_pos+=1\n",
    "                list_pos.append(temp[index-2])\n",
    "            elif (index-2 >= 0) and (temp[index-2] in neg):\n",
    "                count_neg+=1\n",
    "                list_neg.append(temp[index-2])\n",
    "            \n",
    "            if (index-1 >= 0) and (temp[index-1] in pos):\n",
    "                count_pos+=1\n",
    "                list_pos.append(temp[index-1])\n",
    "            elif (index-1 >= 0) and (temp[index-1] in neg):\n",
    "                count_neg+=1\n",
    "                list_neg.append(temp[index-1])\n",
    "            \n",
    "            if (index+3 <= len(temp)) and (temp[index+2] in pos):\n",
    "                count_pos+=1\n",
    "                list_pos.append(temp[index+2])\n",
    "            elif (index+3 <= len(temp)) and (temp[index+2] in neg):\n",
    "                count_neg+=1\n",
    "                list_neg.append(temp[index+2])\n",
    "            \n",
    "            if (index+4 <= len(temp)) and (temp[index+3] in pos):\n",
    "                count_pos+=1\n",
    "                list_pos.append(temp[index+3])\n",
    "            elif (index+4 <= len(temp)) and (temp[index+3] in neg):\n",
    "                count_neg+=1\n",
    "                list_neg.append(temp[index+3])"
   ]
  },
  {
   "cell_type": "code",
   "execution_count": 19,
   "metadata": {},
   "outputs": [
    {
     "name": "stdout",
     "output_type": "stream",
     "text": [
      "top5 positive adj near 'craft beer' is  ['great', 'fun', 'good', 'decent', 'sure']\n",
      "top5 negative adj near 'craft beer' is  ['old', 'cold', 'small', 'usual']\n"
     ]
    }
   ],
   "source": [
    "print('top5 positive adj near \\'craft beer\\' is ',list(nltk.FreqDist(list_pos).keys())[0:5])\n",
    "print('top5 negative adj near \\'craft beer\\' is ',list(nltk.FreqDist(list_neg).keys())[0:5])"
   ]
  },
  {
   "cell_type": "code",
   "execution_count": 20,
   "metadata": {},
   "outputs": [
    {
     "name": "stdout",
     "output_type": "stream",
     "text": [
      "count of positive adj near 'craft beer' is  177\n",
      "count of negative adj near 'craft beer' is  11\n"
     ]
    }
   ],
   "source": [
    "print('count of positive adj near \\'craft beer\\' is ',count_pos)\n",
    "print('count of negative adj near \\'craft beer\\' is ',count_neg)"
   ]
  },
  {
   "cell_type": "markdown",
   "metadata": {},
   "source": [
    "## draft beer"
   ]
  },
  {
   "cell_type": "code",
   "execution_count": 21,
   "metadata": {},
   "outputs": [],
   "source": [
    "count_pos=0\n",
    "count_neg=0\n",
    "list_pos=[]\n",
    "list_neg=[]\n",
    "    \n",
    "for i in range(len(reviewsTEXT_clean)):\n",
    "    if 'draft beer' in reviewsTEXT_clean[i]['text']:\n",
    "#        print(reviewsTEXT_clean[i]['text'])\n",
    "        temp=reviewsTEXT_clean[i]['text_split']\n",
    "        index_list=[p for p,x in enumerate(temp) if x=='draft']\n",
    "        for index in index_list:\n",
    "            if (index-2 >= 0) and (temp[index-2] in pos):\n",
    "                count_pos+=1\n",
    "                list_pos.append(temp[index-2])\n",
    "            elif (index-2 >= 0) and (temp[index-2] in neg):\n",
    "                count_neg+=1\n",
    "                list_neg.append(temp[index-2])\n",
    "            \n",
    "            if (index-1 >= 0) and (temp[index-1] in pos):\n",
    "                count_pos+=1\n",
    "                list_pos.append(temp[index-1])\n",
    "            elif (index-1 >= 0) and (temp[index-1] in neg):\n",
    "                count_neg+=1\n",
    "                list_neg.append(temp[index-1])\n",
    "            \n",
    "            if (index+3 <= len(temp)) and (temp[index+2] in pos):\n",
    "                count_pos+=1\n",
    "                list_pos.append(temp[index+2])\n",
    "            elif (index+3 <= len(temp)) and (temp[index+2] in neg):\n",
    "                count_neg+=1\n",
    "                list_neg.append(temp[index+2])\n",
    "            \n",
    "            if (index+4 <= len(temp)) and (temp[index+3] in pos):\n",
    "                count_pos+=1\n",
    "                list_pos.append(temp[index+3])\n",
    "            elif (index+4 <= len(temp)) and (temp[index+3] in neg):\n",
    "                count_neg+=1\n",
    "                list_neg.append(temp[index+3])"
   ]
  },
  {
   "cell_type": "code",
   "execution_count": 22,
   "metadata": {},
   "outputs": [
    {
     "name": "stdout",
     "output_type": "stream",
     "text": [
      "top5 positive adj near 'draft beer' is  ['great', 'nice', 'best', 'famous', 'good']\n",
      "top5 negative adj near 'draft beer' is  ['cold', 'small', 'bad']\n"
     ]
    }
   ],
   "source": [
    "print('top5 positive adj near \\'draft beer\\' is ',list(nltk.FreqDist(list_pos).keys())[0:5])\n",
    "print('top5 negative adj near \\'draft beer\\' is ',list(nltk.FreqDist(list_neg).keys())[0:5])"
   ]
  },
  {
   "cell_type": "code",
   "execution_count": 23,
   "metadata": {},
   "outputs": [
    {
     "name": "stdout",
     "output_type": "stream",
     "text": [
      "count of positive adj near 'draft beer' is  58\n",
      "count of negative adj near 'draft beer' is  14\n"
     ]
    }
   ],
   "source": [
    "print('count of positive adj near \\'draft beer\\' is ',count_pos)\n",
    "print('count of negative adj near \\'draft beer\\' is ',count_neg)"
   ]
  },
  {
   "cell_type": "markdown",
   "metadata": {},
   "source": [
    "## beer select"
   ]
  },
  {
   "cell_type": "code",
   "execution_count": 24,
   "metadata": {},
   "outputs": [],
   "source": [
    "count_pos=0\n",
    "count_neg=0\n",
    "list_pos=[]\n",
    "list_neg=[]\n",
    "    \n",
    "for i in range(len(reviewsTEXT_clean)):\n",
    "    if 'beer select' in reviewsTEXT_clean[i]['text']:\n",
    "#        print(reviewsTEXT_clean[i]['text'])\n",
    "        temp=reviewsTEXT_clean[i]['text_split']\n",
    "        index_list=[p for p,x in enumerate(temp) if x=='select']\n",
    "        for index in index_list:\n",
    "            if (index-3 >= 0) and (temp[index-3] in pos):\n",
    "                count_pos+=1\n",
    "                list_pos.append(temp[index-3])\n",
    "            elif (index-3 >= 0) and (temp[index-3] in neg):\n",
    "                count_neg+=1\n",
    "                list_neg.append(temp[index-3])\n",
    "            \n",
    "            if (index-2 >= 0) and (temp[index-2] in pos):\n",
    "                count_pos+=1\n",
    "                list_pos.append(temp[index-2])\n",
    "            elif (index-2 >= 0) and (temp[index-2] in neg):\n",
    "                count_neg+=1\n",
    "                list_neg.append(temp[index-2])\n",
    "            \n",
    "            if (index+2 <= len(temp)) and (temp[index+1] in pos):\n",
    "                count_pos+=1\n",
    "                list_pos.append(temp[index+1])\n",
    "            elif (index+2 <= len(temp)) and (temp[index+1] in neg):\n",
    "                count_neg+=1\n",
    "                list_neg.append(temp[index+1])\n",
    "            \n",
    "            if (index+3 <= len(temp)) and (temp[index+2] in pos):\n",
    "                count_pos+=1\n",
    "                list_pos.append(temp[index+2])\n",
    "            elif (index+3 <= len(temp)) and (temp[index+2] in neg):\n",
    "                count_neg+=1\n",
    "                list_neg.append(temp[index+2])\n",
    "            "
   ]
  },
  {
   "cell_type": "code",
   "execution_count": 25,
   "metadata": {},
   "outputs": [
    {
     "name": "stdout",
     "output_type": "stream",
     "text": [
      "top5 positive adj near 'beer select' is  ['great', 'good', 'well', 'decent', 'huge']\n",
      "top5 negative adj near 'beer select' is  ['small', 'weak', 'cant', 'ultra', 'monstrous']\n"
     ]
    }
   ],
   "source": [
    "print('top5 positive adj near \\'beer select\\' is ',list(nltk.FreqDist(list_pos).keys())[0:5])\n",
    "print('top5 negative adj near \\'beer select\\' is ',list(nltk.FreqDist(list_neg).keys())[0:5])"
   ]
  },
  {
   "cell_type": "code",
   "execution_count": 26,
   "metadata": {},
   "outputs": [
    {
     "name": "stdout",
     "output_type": "stream",
     "text": [
      "count of positive adj near 'beer select' is  697\n",
      "count of negative adj near 'beer select' is  13\n"
     ]
    }
   ],
   "source": [
    "print('count of positive adj near \\'beer select\\' is ',count_pos)\n",
    "print('count of negative adj near \\'beer select\\' is ',count_neg)"
   ]
  },
  {
   "cell_type": "code",
   "execution_count": null,
   "metadata": {},
   "outputs": [],
   "source": []
  }
 ],
 "metadata": {
  "kernelspec": {
   "display_name": "Python 3",
   "language": "python",
   "name": "python3"
  },
  "language_info": {
   "codemirror_mode": {
    "name": "ipython",
    "version": 3
   },
   "file_extension": ".py",
   "mimetype": "text/x-python",
   "name": "python",
   "nbconvert_exporter": "python",
   "pygments_lexer": "ipython3",
   "version": "3.7.1"
  }
 },
 "nbformat": 4,
 "nbformat_minor": 2
}
