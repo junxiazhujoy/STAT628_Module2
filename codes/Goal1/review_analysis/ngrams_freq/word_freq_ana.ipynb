{
 "cells": [
  {
   "cell_type": "code",
   "execution_count": 1,
   "metadata": {},
   "outputs": [],
   "source": [
    "import pandas as pd\n",
    "import numpy as np\n",
    "import csv\n",
    "import os\n",
    "import re\n",
    "import matplotlib.pyplot as plt\n",
    "\n",
    "import warnings\n",
    "warnings.filterwarnings('ignore') \n"
   ]
  },
  {
   "cell_type": "code",
   "execution_count": 2,
   "metadata": {},
   "outputs": [],
   "source": [
    "beerbi=pd.read_csv('beerBigram.csv')"
   ]
  },
  {
   "cell_type": "code",
   "execution_count": 4,
   "metadata": {},
   "outputs": [
    {
     "data": {
      "text/html": [
       "<div>\n",
       "<style scoped>\n",
       "    .dataframe tbody tr th:only-of-type {\n",
       "        vertical-align: middle;\n",
       "    }\n",
       "\n",
       "    .dataframe tbody tr th {\n",
       "        vertical-align: top;\n",
       "    }\n",
       "\n",
       "    .dataframe thead th {\n",
       "        text-align: right;\n",
       "    }\n",
       "</style>\n",
       "<table border=\"1\" class=\"dataframe\">\n",
       "  <thead>\n",
       "    <tr style=\"text-align: right;\">\n",
       "      <th></th>\n",
       "      <th>beer1</th>\n",
       "      <th>beer1freq</th>\n",
       "      <th>beer2</th>\n",
       "      <th>beer2freq</th>\n",
       "      <th>beer3</th>\n",
       "      <th>beer3freq</th>\n",
       "      <th>beer4</th>\n",
       "      <th>beer4freq</th>\n",
       "      <th>beer5</th>\n",
       "      <th>beer5freq</th>\n",
       "    </tr>\n",
       "  </thead>\n",
       "  <tbody>\n",
       "    <tr>\n",
       "      <th>0</th>\n",
       "      <td>order beer</td>\n",
       "      <td>209.0</td>\n",
       "      <td>beer select</td>\n",
       "      <td>207.0</td>\n",
       "      <td>beer select</td>\n",
       "      <td>480.0</td>\n",
       "      <td>beer select</td>\n",
       "      <td>910.0</td>\n",
       "      <td>beer select</td>\n",
       "      <td>1103</td>\n",
       "    </tr>\n",
       "    <tr>\n",
       "      <th>1</th>\n",
       "      <td>draft beer</td>\n",
       "      <td>86.0</td>\n",
       "      <td>order beer</td>\n",
       "      <td>118.0</td>\n",
       "      <td>good beer</td>\n",
       "      <td>198.0</td>\n",
       "      <td>beer tap</td>\n",
       "      <td>453.0</td>\n",
       "      <td>craft beer</td>\n",
       "      <td>666</td>\n",
       "    </tr>\n",
       "    <tr>\n",
       "      <th>2</th>\n",
       "      <td>beer select</td>\n",
       "      <td>80.0</td>\n",
       "      <td>draft beer</td>\n",
       "      <td>114.0</td>\n",
       "      <td>beer tap</td>\n",
       "      <td>179.0</td>\n",
       "      <td>craft beer</td>\n",
       "      <td>420.0</td>\n",
       "      <td>great beer</td>\n",
       "      <td>657</td>\n",
       "    </tr>\n",
       "    <tr>\n",
       "      <th>3</th>\n",
       "      <td>one beer</td>\n",
       "      <td>72.0</td>\n",
       "      <td>beer tap</td>\n",
       "      <td>78.0</td>\n",
       "      <td>select beer</td>\n",
       "      <td>159.0</td>\n",
       "      <td>select beer</td>\n",
       "      <td>409.0</td>\n",
       "      <td>beer tap</td>\n",
       "      <td>547</td>\n",
       "    </tr>\n",
       "    <tr>\n",
       "      <th>4</th>\n",
       "      <td>drink beer</td>\n",
       "      <td>68.0</td>\n",
       "      <td>good beer</td>\n",
       "      <td>73.0</td>\n",
       "      <td>draft beer</td>\n",
       "      <td>157.0</td>\n",
       "      <td>good beer</td>\n",
       "      <td>373.0</td>\n",
       "      <td>select beer</td>\n",
       "      <td>410</td>\n",
       "    </tr>\n",
       "    <tr>\n",
       "      <th>5</th>\n",
       "      <td>beer order</td>\n",
       "      <td>67.0</td>\n",
       "      <td>beer list</td>\n",
       "      <td>65.0</td>\n",
       "      <td>craft beer</td>\n",
       "      <td>156.0</td>\n",
       "      <td>great beer</td>\n",
       "      <td>362.0</td>\n",
       "      <td>good beer</td>\n",
       "      <td>367</td>\n",
       "    </tr>\n",
       "    <tr>\n",
       "      <th>6</th>\n",
       "      <td>get beer</td>\n",
       "      <td>64.0</td>\n",
       "      <td>craft beer</td>\n",
       "      <td>59.0</td>\n",
       "      <td>order beer</td>\n",
       "      <td>110.0</td>\n",
       "      <td>draft beer</td>\n",
       "      <td>292.0</td>\n",
       "      <td>beer great</td>\n",
       "      <td>302</td>\n",
       "    </tr>\n",
       "    <tr>\n",
       "      <th>7</th>\n",
       "      <td>bottl beer</td>\n",
       "      <td>53.0</td>\n",
       "      <td>select beer</td>\n",
       "      <td>57.0</td>\n",
       "      <td>beer pong</td>\n",
       "      <td>106.0</td>\n",
       "      <td>root beer</td>\n",
       "      <td>262.0</td>\n",
       "      <td>draft beer</td>\n",
       "      <td>294</td>\n",
       "    </tr>\n",
       "    <tr>\n",
       "      <th>8</th>\n",
       "      <td>beer pong</td>\n",
       "      <td>52.0</td>\n",
       "      <td>get beer</td>\n",
       "      <td>56.0</td>\n",
       "      <td>drink beer</td>\n",
       "      <td>106.0</td>\n",
       "      <td>beer pong</td>\n",
       "      <td>246.0</td>\n",
       "      <td>beer pong</td>\n",
       "      <td>242</td>\n",
       "    </tr>\n",
       "    <tr>\n",
       "      <th>9</th>\n",
       "      <td>ask beer</td>\n",
       "      <td>48.0</td>\n",
       "      <td>drink beer</td>\n",
       "      <td>56.0</td>\n",
       "      <td>great beer</td>\n",
       "      <td>103.0</td>\n",
       "      <td>beer list</td>\n",
       "      <td>204.0</td>\n",
       "      <td>root beer</td>\n",
       "      <td>241</td>\n",
       "    </tr>\n",
       "  </tbody>\n",
       "</table>\n",
       "</div>"
      ],
      "text/plain": [
       "         beer1  beer1freq        beer2  beer2freq        beer3  beer3freq  \\\n",
       "0   order beer      209.0  beer select      207.0  beer select      480.0   \n",
       "1   draft beer       86.0   order beer      118.0    good beer      198.0   \n",
       "2  beer select       80.0   draft beer      114.0     beer tap      179.0   \n",
       "3     one beer       72.0     beer tap       78.0  select beer      159.0   \n",
       "4   drink beer       68.0    good beer       73.0   draft beer      157.0   \n",
       "5   beer order       67.0    beer list       65.0   craft beer      156.0   \n",
       "6     get beer       64.0   craft beer       59.0   order beer      110.0   \n",
       "7   bottl beer       53.0  select beer       57.0    beer pong      106.0   \n",
       "8    beer pong       52.0     get beer       56.0   drink beer      106.0   \n",
       "9     ask beer       48.0   drink beer       56.0   great beer      103.0   \n",
       "\n",
       "         beer4  beer4freq        beer5  beer5freq  \n",
       "0  beer select      910.0  beer select       1103  \n",
       "1     beer tap      453.0   craft beer        666  \n",
       "2   craft beer      420.0   great beer        657  \n",
       "3  select beer      409.0     beer tap        547  \n",
       "4    good beer      373.0  select beer        410  \n",
       "5   great beer      362.0    good beer        367  \n",
       "6   draft beer      292.0   beer great        302  \n",
       "7    root beer      262.0   draft beer        294  \n",
       "8    beer pong      246.0    beer pong        242  \n",
       "9    beer list      204.0    root beer        241  "
      ]
     },
     "execution_count": 4,
     "metadata": {},
     "output_type": "execute_result"
    }
   ],
   "source": [
    "beerbi.head(10)"
   ]
  },
  {
   "cell_type": "code",
   "execution_count": 5,
   "metadata": {},
   "outputs": [
    {
     "data": {
      "text/plain": [
       "80"
      ]
     },
     "execution_count": 5,
     "metadata": {},
     "output_type": "execute_result"
    }
   ],
   "source": [
    "int(beerbi.loc[beerbi['beer1']=='beer select','beer1freq'])"
   ]
  },
  {
   "cell_type": "code",
   "execution_count": 15,
   "metadata": {},
   "outputs": [],
   "source": [
    "df_star1 = pd.read_csv('wc_uni_star1.csv')\n",
    "df_star2 = pd.read_csv('wc_uni_star2.csv')\n",
    "df_star3 = pd.read_csv('wc_uni_star3.csv')\n",
    "df_star4 = pd.read_csv('wc_uni_star4.csv')\n",
    "df_star5 = pd.read_csv('wc_uni_star5.csv')"
   ]
  },
  {
   "cell_type": "code",
   "execution_count": 16,
   "metadata": {},
   "outputs": [
    {
     "data": {
      "text/html": [
       "<div>\n",
       "<style scoped>\n",
       "    .dataframe tbody tr th:only-of-type {\n",
       "        vertical-align: middle;\n",
       "    }\n",
       "\n",
       "    .dataframe tbody tr th {\n",
       "        vertical-align: top;\n",
       "    }\n",
       "\n",
       "    .dataframe thead th {\n",
       "        text-align: right;\n",
       "    }\n",
       "</style>\n",
       "<table border=\"1\" class=\"dataframe\">\n",
       "  <thead>\n",
       "    <tr style=\"text-align: right;\">\n",
       "      <th></th>\n",
       "      <th>words</th>\n",
       "      <th>frequency</th>\n",
       "    </tr>\n",
       "  </thead>\n",
       "  <tbody>\n",
       "    <tr>\n",
       "      <th>0</th>\n",
       "      <td>this</td>\n",
       "      <td>32910</td>\n",
       "    </tr>\n",
       "    <tr>\n",
       "      <th>1</th>\n",
       "      <td>food</td>\n",
       "      <td>20222</td>\n",
       "    </tr>\n",
       "    <tr>\n",
       "      <th>2</th>\n",
       "      <td>NOT_the</td>\n",
       "      <td>19628</td>\n",
       "    </tr>\n",
       "    <tr>\n",
       "      <th>3</th>\n",
       "      <td>NOT_to</td>\n",
       "      <td>19231</td>\n",
       "    </tr>\n",
       "    <tr>\n",
       "      <th>4</th>\n",
       "      <td>us</td>\n",
       "      <td>18138</td>\n",
       "    </tr>\n",
       "    <tr>\n",
       "      <th>5</th>\n",
       "      <td>place</td>\n",
       "      <td>17273</td>\n",
       "    </tr>\n",
       "    <tr>\n",
       "      <th>6</th>\n",
       "      <td>order</td>\n",
       "      <td>17147</td>\n",
       "    </tr>\n",
       "    <tr>\n",
       "      <th>7</th>\n",
       "      <td>no</td>\n",
       "      <td>16974</td>\n",
       "    </tr>\n",
       "    <tr>\n",
       "      <th>8</th>\n",
       "      <td>servic</td>\n",
       "      <td>15786</td>\n",
       "    </tr>\n",
       "    <tr>\n",
       "      <th>9</th>\n",
       "      <td>get</td>\n",
       "      <td>15569</td>\n",
       "    </tr>\n",
       "  </tbody>\n",
       "</table>\n",
       "</div>"
      ],
      "text/plain": [
       "     words  frequency\n",
       "0     this      32910\n",
       "1     food      20222\n",
       "2  NOT_the      19628\n",
       "3   NOT_to      19231\n",
       "4       us      18138\n",
       "5    place      17273\n",
       "6    order      17147\n",
       "7       no      16974\n",
       "8   servic      15786\n",
       "9      get      15569"
      ]
     },
     "execution_count": 16,
     "metadata": {},
     "output_type": "execute_result"
    }
   ],
   "source": [
    "df_star1.head(10)"
   ]
  },
  {
   "cell_type": "code",
   "execution_count": 21,
   "metadata": {},
   "outputs": [
    {
     "data": {
      "text/plain": [
       "<matplotlib.legend.Legend at 0x11d683c18>"
      ]
     },
     "execution_count": 21,
     "metadata": {},
     "output_type": "execute_result"
    },
    {
     "data": {
      "image/png": "[encoded data removed]",
      "text/plain": [
       "<Figure size 640x400 with 1 Axes>"
      ]
     },
     "metadata": {
      "needs_background": "light"
     },
     "output_type": "display_data"
    }
   ],
   "source": [
    "plt.figure(figsize=(8, 5), dpi=80)\n",
    "fre1=int(df_star1.loc[df_star1['words']=='friend',:]['frequency'])/4337786\n",
    "fre2=int(df_star2.loc[df_star2['words']=='friend',:]['frequency'])/3513632\n",
    "fre3=int(df_star3.loc[df_star3['words']=='friend',:]['frequency'])/4763659\n",
    "fre4=int(df_star4.loc[df_star4['words']=='friend',:]['frequency'])/8328480\n",
    "fre5=int(df_star5.loc[df_star5['words']=='friend',:]['frequency'])/10839807\n",
    "\n",
    "num_list = [fre1, fre2, fre3, fre4, fre5]\n",
    "\n",
    "plt.bar(range(1,(len(num_list)+1)), num_list,label=\"friend\", color=\"#a50055\")\n",
    "\n",
    "plt.xlabel('Stars')\n",
    "plt.ylabel('Frequency')\n",
    "plt.legend(loc=\"upper left\")"
   ]
  },
  {
   "cell_type": "code",
   "execution_count": 22,
   "metadata": {},
   "outputs": [
    {
     "data": {
      "text/plain": [
       "<matplotlib.legend.Legend at 0x11f459cc0>"
      ]
     },
     "execution_count": 22,
     "metadata": {},
     "output_type": "execute_result"
    },
    {
     "data": {
      "image/png": "[encoded data removed]",
      "text/plain": [
       "<Figure size 640x400 with 1 Axes>"
      ]
     },
     "metadata": {
      "needs_background": "light"
     },
     "output_type": "display_data"
    }
   ],
   "source": [
    "plt.figure(figsize=(8, 5), dpi=80)\n",
    "fre1=int(df_star1.loc[df_star1['words']=='waitress',:]['frequency'])/4337786\n",
    "fre2=int(df_star2.loc[df_star2['words']=='waitress',:]['frequency'])/3513632\n",
    "fre3=int(df_star3.loc[df_star3['words']=='waitress',:]['frequency'])/4763659\n",
    "fre4=int(df_star4.loc[df_star4['words']=='waitress',:]['frequency'])/8328480\n",
    "fre5=int(df_star5.loc[df_star5['words']=='waitress',:]['frequency'])/10839807\n",
    "\n",
    "num_list = [fre1, fre2, fre3, fre4, fre5]\n",
    "\n",
    "plt.bar(range(1,(len(num_list)+1)), num_list,label=\"waitress\", color=\"#a50055\")\n",
    "\n",
    "plt.xlabel('Stars')\n",
    "plt.ylabel('Frequency')\n",
    "plt.legend(loc=\"upper right\")"
   ]
  },
  {
   "cell_type": "code",
   "execution_count": 26,
   "metadata": {},
   "outputs": [
    {
     "data": {
      "text/plain": [
       "<matplotlib.legend.Legend at 0x11f59aac8>"
      ]
     },
     "execution_count": 26,
     "metadata": {},
     "output_type": "execute_result"
    },
    {
     "data": {
      "image/png": "[encoded data removed]",
      "text/plain": [
       "<Figure size 640x400 with 1 Axes>"
      ]
     },
     "metadata": {
      "needs_background": "light"
     },
     "output_type": "display_data"
    }
   ],
   "source": [
    "\n",
    "plt.figure(figsize=(8, 5), dpi=80)\n",
    "fre1=int(df_star1.loc[df_star1['words']=='bartend',:]['frequency'])/4337786\n",
    "fre2=int(df_star2.loc[df_star2['words']=='bartend',:]['frequency'])/3513632\n",
    "fre3=int(df_star3.loc[df_star3['words']=='bartend',:]['frequency'])/4763659\n",
    "fre4=int(df_star4.loc[df_star4['words']=='bartend',:]['frequency'])/8328480\n",
    "fre5=int(df_star5.loc[df_star5['words']=='bartend',:]['frequency'])/10839807\n",
    "\n",
    "num_list = [fre1, fre2, fre3, fre4, fre5]\n",
    "\n",
    "plt.bar(range(1,(len(num_list)+1)), num_list,label=\"bartend\", color=\"#a50055\")\n",
    "\n",
    "plt.xlabel('Stars')\n",
    "plt.ylabel('Frequency')\n",
    "plt.legend(loc=\"upper right\")"
   ]
  },
  {
   "cell_type": "code",
   "execution_count": 28,
   "metadata": {},
   "outputs": [
    {
     "data": {
      "text/plain": [
       "<matplotlib.legend.Legend at 0x11f9c6f28>"
      ]
     },
     "execution_count": 28,
     "metadata": {},
     "output_type": "execute_result"
    },
    {
     "data": {
      "image/png": "[encoded data removed]",
      "text/plain": [
       "<Figure size 640x400 with 1 Axes>"
      ]
     },
     "metadata": {
      "needs_background": "light"
     },
     "output_type": "display_data"
    }
   ],
   "source": [
    "\n",
    "plt.figure(figsize=(8, 5), dpi=80)\n",
    "fre1=int(df_star1.loc[df_star1['words']=='manag',:]['frequency'])/4337786\n",
    "fre2=int(df_star2.loc[df_star2['words']=='manag',:]['frequency'])/3513632\n",
    "fre3=int(df_star3.loc[df_star3['words']=='manag',:]['frequency'])/4763659\n",
    "fre4=int(df_star4.loc[df_star4['words']=='manag',:]['frequency'])/8328480\n",
    "fre5=int(df_star5.loc[df_star5['words']=='manag',:]['frequency'])/10839807\n",
    "\n",
    "num_list = [fre1, fre2, fre3, fre4, fre5]\n",
    "\n",
    "plt.bar(range(1,(len(num_list)+1)), num_list,label=\"manag\", color=\"#a50055\")\n",
    "\n",
    "plt.xlabel('Stars')\n",
    "plt.ylabel('Frequency')\n",
    "plt.legend(loc=\"upper right\")"
   ]
  },
  {
   "cell_type": "code",
   "execution_count": 31,
   "metadata": {},
   "outputs": [
    {
     "data": {
      "text/plain": [
       "<matplotlib.legend.Legend at 0x11fb9eda0>"
      ]
     },
     "execution_count": 31,
     "metadata": {},
     "output_type": "execute_result"
    },
    {
     "data": {
      "image/png": "[encoded data removed]",
      "text/plain": [
       "<Figure size 640x400 with 1 Axes>"
      ]
     },
     "metadata": {
      "needs_background": "light"
     },
     "output_type": "display_data"
    }
   ],
   "source": [
    "\n",
    "plt.figure(figsize=(8, 5), dpi=80)\n",
    "fre1=int(df_star1.loc[df_star1['words']=='crowd',:]['frequency'])/4337786\n",
    "fre2=int(df_star2.loc[df_star2['words']=='crowd',:]['frequency'])/3513632\n",
    "fre3=int(df_star3.loc[df_star3['words']=='crowd',:]['frequency'])/4763659\n",
    "fre4=int(df_star4.loc[df_star4['words']=='crowd',:]['frequency'])/8328480\n",
    "fre5=int(df_star5.loc[df_star5['words']=='crowd',:]['frequency'])/10839807\n",
    "\n",
    "num_list = [fre1, fre2, fre3, fre4, fre5]\n",
    "\n",
    "plt.bar(range(1,(len(num_list)+1)), num_list,label=\"crowd\", color=\"#a50055\")\n",
    "\n",
    "plt.xlabel('Stars')\n",
    "plt.ylabel('Frequency')\n",
    "plt.legend(loc=\"upper right\")"
   ]
  },
  {
   "cell_type": "code",
   "execution_count": 33,
   "metadata": {},
   "outputs": [
    {
     "data": {
      "text/plain": [
       "<matplotlib.legend.Legend at 0x11fc0bcc0>"
      ]
     },
     "execution_count": 33,
     "metadata": {},
     "output_type": "execute_result"
    },
    {
     "data": {
      "image/png": "[encoded data removed]",
      "text/plain": [
       "<Figure size 640x400 with 1 Axes>"
      ]
     },
     "metadata": {
      "needs_background": "light"
     },
     "output_type": "display_data"
    }
   ],
   "source": [
    "\n",
    "plt.figure(figsize=(8, 5), dpi=80)\n",
    "fre1=int(df_star1.loc[df_star1['words']=='slow',:]['frequency'])/4337786\n",
    "fre2=int(df_star2.loc[df_star2['words']=='slow',:]['frequency'])/3513632\n",
    "fre3=int(df_star3.loc[df_star3['words']=='slow',:]['frequency'])/4763659\n",
    "fre4=int(df_star4.loc[df_star4['words']=='slow',:]['frequency'])/8328480\n",
    "fre5=0\n",
    "\n",
    "num_list = [fre1, fre2, fre3, fre4, fre5]\n",
    "\n",
    "plt.bar(range(1,(len(num_list)+1)), num_list,label=\"slow\", color=\"#a50055\")\n",
    "\n",
    "plt.xlabel('Stars')\n",
    "plt.ylabel('Frequency')\n",
    "plt.legend(loc=\"upper right\")"
   ]
  },
  {
   "cell_type": "code",
   "execution_count": 36,
   "metadata": {},
   "outputs": [
    {
     "data": {
      "text/plain": [
       "<matplotlib.legend.Legend at 0x11fc0bac8>"
      ]
     },
     "execution_count": 36,
     "metadata": {},
     "output_type": "execute_result"
    },
    {
     "data": {
      "image/png": "[encoded data removed]",
      "text/plain": [
       "<Figure size 640x400 with 1 Axes>"
      ]
     },
     "metadata": {
      "needs_background": "light"
     },
     "output_type": "display_data"
    }
   ],
   "source": [
    "\n",
    "plt.figure(figsize=(8, 5), dpi=80)\n",
    "fre1=int(df_star1.loc[df_star1['words']=='rude',:]['frequency'])/4337786\n",
    "fre2=int(df_star2.loc[df_star2['words']=='rude',:]['frequency'])/3513632\n",
    "fre3=int(df_star3.loc[df_star3['words']=='rude',:]['frequency'])/4763659\n",
    "fre4=0\n",
    "#fre4=int(df_star4.loc[df_star4['words']=='rude',:]['frequency'])/8328480\n",
    "fre5=0\n",
    "#int(df_star5.loc[df_star5['words']=='rude',:]['frequency'])/10839807\n",
    "\n",
    "\n",
    "num_list = [fre1, fre2, fre3, fre4, fre5]\n",
    "\n",
    "plt.bar(range(1,(len(num_list)+1)), num_list,label=\"rude\", color=\"#a50055\")\n",
    "\n",
    "plt.xlabel('Stars')\n",
    "plt.ylabel('Frequency')\n",
    "plt.legend(loc=\"upper right\")"
   ]
  },
  {
   "cell_type": "code",
   "execution_count": 37,
   "metadata": {},
   "outputs": [
    {
     "data": {
      "text/plain": [
       "<matplotlib.legend.Legend at 0x11ff74400>"
      ]
     },
     "execution_count": 37,
     "metadata": {},
     "output_type": "execute_result"
    },
    {
     "data": {
      "image/png": "[encoded data removed]",
      "text/plain": [
       "<Figure size 640x400 with 1 Axes>"
      ]
     },
     "metadata": {
      "needs_background": "light"
     },
     "output_type": "display_data"
    }
   ],
   "source": [
    "\n",
    "plt.figure(figsize=(8, 5), dpi=80)\n",
    "\n",
    "fre1=int(df_star1.loc[df_star1['words']=='wait',:]['frequency'])/4337786\n",
    "fre2=int(df_star2.loc[df_star2['words']=='wait',:]['frequency'])/3513632\n",
    "fre3=int(df_star3.loc[df_star3['words']=='wait',:]['frequency'])/4763659\n",
    "fre4=int(df_star4.loc[df_star4['words']=='wait',:]['frequency'])/8328480\n",
    "fre5=int(df_star5.loc[df_star5['words']=='wait',:]['frequency'])/10839807\n",
    "\n",
    "num_list = [fre1, fre2, fre3, fre4, fre5]\n",
    "\n",
    "plt.bar(range(1,(len(num_list)+1)), num_list,label=\"wait\", color=\"#a50055\")\n",
    "\n",
    "plt.xlabel('Stars')\n",
    "plt.ylabel('Frequency')\n",
    "plt.legend(loc=\"upper right\")"
   ]
  },
  {
   "cell_type": "code",
   "execution_count": 38,
   "metadata": {},
   "outputs": [
    {
     "data": {
      "text/plain": [
       "<matplotlib.legend.Legend at 0x11ff9d9b0>"
      ]
     },
     "execution_count": 38,
     "metadata": {},
     "output_type": "execute_result"
    },
    {
     "data": {
      "image/png": "[encoded data removed]",
      "text/plain": [
       "<Figure size 640x400 with 1 Axes>"
      ]
     },
     "metadata": {
      "needs_background": "light"
     },
     "output_type": "display_data"
    }
   ],
   "source": [
    "\n",
    "plt.figure(figsize=(8, 5), dpi=80)\n",
    "\n",
    "fre1=int(df_star1.loc[df_star1['words']=='bathroom',:]['frequency'])/4337786\n",
    "fre2=int(df_star2.loc[df_star2['words']=='bathroom',:]['frequency'])/3513632\n",
    "fre3=int(df_star3.loc[df_star3['words']=='bathroom',:]['frequency'])/4763659\n",
    "fre4=int(df_star4.loc[df_star4['words']=='bathroom',:]['frequency'])/8328480\n",
    "fre5=int(df_star5.loc[df_star5['words']=='bathroom',:]['frequency'])/10839807\n",
    "\n",
    "num_list = [fre1, fre2, fre3, fre4, fre5]\n",
    "\n",
    "plt.bar(range(1,(len(num_list)+1)), num_list,label=\"bathroom\", color=\"#a50055\")\n",
    "\n",
    "plt.xlabel('Stars')\n",
    "plt.ylabel('Frequency')\n",
    "plt.legend(loc=\"upper right\")"
   ]
  },
  {
   "cell_type": "code",
   "execution_count": 43,
   "metadata": {},
   "outputs": [
    {
     "data": {
      "text/plain": [
       "<matplotlib.legend.Legend at 0x1201fe550>"
      ]
     },
     "execution_count": 43,
     "metadata": {},
     "output_type": "execute_result"
    },
    {
     "data": {
      "image/png": "[encoded data removed]",
      "text/plain": [
       "<Figure size 640x400 with 1 Axes>"
      ]
     },
     "metadata": {
      "needs_background": "light"
     },
     "output_type": "display_data"
    }
   ],
   "source": [
    "plt.figure(figsize=(8, 5), dpi=80)\n",
    "\n",
    "fre1=int(df_star1.loc[df_star1['words']=='locat',:]['frequency'])/4337786\n",
    "fre2=int(df_star2.loc[df_star2['words']=='locat',:]['frequency'])/3513632\n",
    "fre3=int(df_star3.loc[df_star3['words']=='locat',:]['frequency'])/4763659\n",
    "fre4=int(df_star4.loc[df_star4['words']=='locat',:]['frequency'])/8328480\n",
    "fre5=int(df_star5.loc[df_star5['words']=='locat',:]['frequency'])/10839807\n",
    "\n",
    "num_list = [fre1, fre2, fre3, fre4, fre5]\n",
    "\n",
    "plt.bar(range(1,(len(num_list)+1)), num_list,label=\"locat\", color=\"#a50055\")\n",
    "\n",
    "plt.xlabel('Stars')\n",
    "plt.ylabel('Frequency')\n",
    "plt.legend(loc=\"upper right\")"
   ]
  },
  {
   "cell_type": "code",
   "execution_count": 45,
   "metadata": {},
   "outputs": [
    {
     "data": {
      "text/plain": [
       "<matplotlib.legend.Legend at 0x12085ef60>"
      ]
     },
     "execution_count": 45,
     "metadata": {},
     "output_type": "execute_result"
    },
    {
     "data": {
      "image/png": "[encoded data removed]",
      "text/plain": [
       "<Figure size 640x400 with 1 Axes>"
      ]
     },
     "metadata": {
      "needs_background": "light"
     },
     "output_type": "display_data"
    }
   ],
   "source": [
    "plt.figure(figsize=(8, 5), dpi=80)\n",
    "\n",
    "fre1=int(df_star1.loc[df_star1['words']=='lobster',:]['frequency'])/4337786\n",
    "fre2=int(df_star2.loc[df_star2['words']=='lobster',:]['frequency'])/3513632\n",
    "fre3=int(df_star3.loc[df_star3['words']=='lobster',:]['frequency'])/4763659\n",
    "fre4=int(df_star4.loc[df_star4['words']=='lobster',:]['frequency'])/8328480\n",
    "fre5=int(df_star5.loc[df_star5['words']=='lobster',:]['frequency'])/10839807\n",
    "\n",
    "num_list = [fre1, fre2, fre3, fre4, fre5]\n",
    "\n",
    "plt.bar(range(1,(len(num_list)+1)), num_list,label=\"lobster\", color=\"#a50055\")\n",
    "\n",
    "plt.xlabel('Stars')\n",
    "plt.ylabel('Frequency')\n",
    "plt.legend(loc=\"upper left\")"
   ]
  },
  {
   "cell_type": "code",
   "execution_count": 46,
   "metadata": {},
   "outputs": [
    {
     "data": {
      "text/plain": [
       "<matplotlib.legend.Legend at 0x12087b860>"
      ]
     },
     "execution_count": 46,
     "metadata": {},
     "output_type": "execute_result"
    },
    {
     "data": {
      "image/png": "[encoded data removed]",
      "text/plain": [
       "<Figure size 640x400 with 1 Axes>"
      ]
     },
     "metadata": {
      "needs_background": "light"
     },
     "output_type": "display_data"
    }
   ],
   "source": [
    "\n",
    "plt.figure(figsize=(8, 5), dpi=80)\n",
    "\n",
    "fre1=int(df_star1.loc[df_star1['words']=='burger',:]['frequency'])/4337786\n",
    "fre2=int(df_star2.loc[df_star2['words']=='burger',:]['frequency'])/3513632\n",
    "fre3=int(df_star3.loc[df_star3['words']=='burger',:]['frequency'])/4763659\n",
    "fre4=int(df_star4.loc[df_star4['words']=='burger',:]['frequency'])/8328480\n",
    "fre5=int(df_star5.loc[df_star5['words']=='burger',:]['frequency'])/10839807\n",
    "\n",
    "num_list = [fre1, fre2, fre3, fre4, fre5]\n",
    "\n",
    "plt.bar(range(1,(len(num_list)+1)), num_list,label=\"burger\", color=\"#a50055\")\n",
    "\n",
    "plt.xlabel('Stars')\n",
    "plt.ylabel('Frequency')\n",
    "plt.legend(loc=\"upper right\")"
   ]
  },
  {
   "cell_type": "code",
   "execution_count": 48,
   "metadata": {},
   "outputs": [
    {
     "data": {
      "text/plain": [
       "<matplotlib.legend.Legend at 0x1209ae710>"
      ]
     },
     "execution_count": 48,
     "metadata": {},
     "output_type": "execute_result"
    },
    {
     "data": {
      "image/png": "[encoded data removed]",
      "text/plain": [
       "<Figure size 640x400 with 1 Axes>"
      ]
     },
     "metadata": {
      "needs_background": "light"
     },
     "output_type": "display_data"
    }
   ],
   "source": [
    "plt.figure(figsize=(8, 5), dpi=80)\n",
    "\n",
    "fre1=int(df_star1.loc[df_star1['words']=='delici',:]['frequency'])/4337786\n",
    "fre2=int(df_star2.loc[df_star2['words']=='delici',:]['frequency'])/3513632\n",
    "fre3=int(df_star3.loc[df_star3['words']=='delici',:]['frequency'])/4763659\n",
    "fre4=int(df_star4.loc[df_star4['words']=='delici',:]['frequency'])/8328480\n",
    "fre5=int(df_star5.loc[df_star5['words']=='delici',:]['frequency'])/10839807\n",
    "\n",
    "num_list = [fre1, fre2, fre3, fre4, fre5]\n",
    "\n",
    "plt.bar(range(1,(len(num_list)+1)), num_list,label=\"delici\", color=\"#a50055\")\n",
    "\n",
    "plt.xlabel('Stars')\n",
    "plt.ylabel('Frequency')\n",
    "plt.legend(loc=\"upper left\")"
   ]
  },
  {
   "cell_type": "code",
   "execution_count": 52,
   "metadata": {},
   "outputs": [
    {
     "data": {
      "text/plain": [
       "<matplotlib.legend.Legend at 0x120bf2668>"
      ]
     },
     "execution_count": 52,
     "metadata": {},
     "output_type": "execute_result"
    },
    {
     "data": {
      "image/png": "[encoded data removed]",
      "text/plain": [
       "<Figure size 640x400 with 1 Axes>"
      ]
     },
     "metadata": {
      "needs_background": "light"
     },
     "output_type": "display_data"
    }
   ],
   "source": [
    "plt.figure(figsize=(8, 5), dpi=80)\n",
    "\n",
    "fre1=int(df_star1.loc[df_star1['words']=='salt',:]['frequency'])/4337786\n",
    "fre2=int(df_star2.loc[df_star2['words']=='salt',:]['frequency'])/3513632\n",
    "fre3=int(df_star3.loc[df_star3['words']=='salt',:]['frequency'])/4763659\n",
    "fre4=int(df_star4.loc[df_star4['words']=='salt',:]['frequency'])/8328480\n",
    "fre5=0\n",
    "#int(df_star5.loc[df_star5['words']=='salty',:]['frequency'])/10839807\n",
    "\n",
    "num_list = [fre1, fre2, fre3, fre4, fre5]\n",
    "\n",
    "plt.bar(range(1,(len(num_list)+1)), num_list,label=\"salt\", color=\"#a50055\")\n",
    "\n",
    "plt.xlabel('Stars')\n",
    "plt.ylabel('Frequency')\n",
    "plt.legend(loc=\"upper left\")"
   ]
  },
  {
   "cell_type": "code",
   "execution_count": 53,
   "metadata": {},
   "outputs": [
    {
     "data": {
      "text/plain": [
       "<matplotlib.legend.Legend at 0x120bfe5f8>"
      ]
     },
     "execution_count": 53,
     "metadata": {},
     "output_type": "execute_result"
    },
    {
     "data": {
      "image/png": "[encoded data removed]",
      "text/plain": [
       "<Figure size 640x400 with 1 Axes>"
      ]
     },
     "metadata": {
      "needs_background": "light"
     },
     "output_type": "display_data"
    }
   ],
   "source": [
    "plt.figure(figsize=(8, 5), dpi=80)\n",
    "\n",
    "fre1=int(df_star1.loc[df_star1['words']=='beer',:]['frequency'])/4337786\n",
    "fre2=int(df_star2.loc[df_star2['words']=='beer',:]['frequency'])/3513632\n",
    "fre3=int(df_star3.loc[df_star3['words']=='beer',:]['frequency'])/4763659\n",
    "fre4=int(df_star4.loc[df_star4['words']=='beer',:]['frequency'])/8328480\n",
    "fre5=int(df_star5.loc[df_star5['words']=='beer',:]['frequency'])/10839807\n",
    "\n",
    "\n",
    "num_list = [fre1, fre2, fre3, fre4, fre5]\n",
    "\n",
    "plt.bar(range(1,(len(num_list)+1)), num_list,label='beer', color=\"#a50055\")\n",
    "\n",
    "plt.xlabel('Stars')\n",
    "plt.ylabel('Frequency')\n",
    "plt.legend(loc=\"upper left\")"
   ]
  },
  {
   "cell_type": "code",
   "execution_count": 14,
   "metadata": {},
   "outputs": [
    {
     "data": {
      "text/plain": [
       "<matplotlib.legend.Legend at 0x115659c50>"
      ]
     },
     "execution_count": 14,
     "metadata": {},
     "output_type": "execute_result"
    },
    {
     "data": {
      "image/png": "[encoded data removed]",
      "text/plain": [
       "<Figure size 640x400 with 1 Axes>"
      ]
     },
     "metadata": {
      "needs_background": "light"
     },
     "output_type": "display_data"
    }
   ],
   "source": [
    "plt.figure(figsize=(8, 5), dpi=80)\n",
    "\n",
    "fre1=int(beerbi.loc[beerbi['beer1']=='beer select','beer1freq'])/4337786\n",
    "fre2=int(beerbi.loc[beerbi['beer2']=='beer select','beer2freq'])/3513632\n",
    "fre3=int(beerbi.loc[beerbi['beer3']=='beer select','beer3freq'])/4763659\n",
    "fre4=int(beerbi.loc[beerbi['beer4']=='beer select','beer4freq'])/8328480\n",
    "fre5=int(beerbi.loc[beerbi['beer5']=='beer select','beer5freq'])/10839807\n",
    "\n",
    "\n",
    "num_list = [fre1, fre2, fre3, fre4, fre5]\n",
    "\n",
    "plt.bar(range(1,(len(num_list)+1)), num_list,label='beer select', color=\"#a50055\")\n",
    "\n",
    "plt.xlabel('Stars')\n",
    "plt.ylabel('Frequency')\n",
    "plt.legend(loc=\"upper left\")"
   ]
  },
  {
   "cell_type": "code",
   "execution_count": 15,
   "metadata": {},
   "outputs": [
    {
     "data": {
      "text/plain": [
       "<matplotlib.legend.Legend at 0x104057eb8>"
      ]
     },
     "execution_count": 15,
     "metadata": {},
     "output_type": "execute_result"
    },
    {
     "data": {
      "image/png": "[encoded data removed]",
      "text/plain": [
       "<Figure size 640x400 with 1 Axes>"
      ]
     },
     "metadata": {
      "needs_background": "light"
     },
     "output_type": "display_data"
    }
   ],
   "source": [
    "plt.figure(figsize=(8, 5), dpi=80)\n",
    "\n",
    "fre1=int(beerbi.loc[beerbi['beer1']=='craft beer','beer1freq'])/4337786\n",
    "fre2=int(beerbi.loc[beerbi['beer2']=='craft beer','beer2freq'])/3513632\n",
    "fre3=int(beerbi.loc[beerbi['beer3']=='craft beer','beer3freq'])/4763659\n",
    "fre4=int(beerbi.loc[beerbi['beer4']=='craft beer','beer4freq'])/8328480\n",
    "fre5=int(beerbi.loc[beerbi['beer5']=='craft beer','beer5freq'])/10839807\n",
    "\n",
    "\n",
    "num_list = [fre1, fre2, fre3, fre4, fre5]\n",
    "\n",
    "plt.bar(range(1,(len(num_list)+1)), num_list,label='craft beer', color=\"#a50055\")\n",
    "\n",
    "plt.xlabel('Stars')\n",
    "plt.ylabel('Frequency')\n",
    "plt.legend(loc=\"upper left\")"
   ]
  },
  {
   "cell_type": "code",
   "execution_count": 16,
   "metadata": {},
   "outputs": [
    {
     "data": {
      "text/plain": [
       "<matplotlib.legend.Legend at 0x1158b4908>"
      ]
     },
     "execution_count": 16,
     "metadata": {},
     "output_type": "execute_result"
    },
    {
     "data": {
      "image/png": "[encoded data removed]",
      "text/plain": [
       "<Figure size 640x400 with 1 Axes>"
      ]
     },
     "metadata": {
      "needs_background": "light"
     },
     "output_type": "display_data"
    }
   ],
   "source": [
    "plt.figure(figsize=(8, 5), dpi=80)\n",
    "\n",
    "fre1=int(beerbi.loc[beerbi['beer1']=='draft beer','beer1freq'])/4337786\n",
    "fre2=int(beerbi.loc[beerbi['beer2']=='draft beer','beer2freq'])/3513632\n",
    "fre3=int(beerbi.loc[beerbi['beer3']=='draft beer','beer3freq'])/4763659\n",
    "fre4=int(beerbi.loc[beerbi['beer4']=='draft beer','beer4freq'])/8328480\n",
    "fre5=int(beerbi.loc[beerbi['beer5']=='draft beer','beer5freq'])/10839807\n",
    "\n",
    "\n",
    "num_list = [fre1, fre2, fre3, fre4, fre5]\n",
    "\n",
    "plt.bar(range(1,(len(num_list)+1)), num_list,label='draft beer', color=\"#a50055\")\n",
    "\n",
    "plt.xlabel('Stars')\n",
    "plt.ylabel('Frequency')\n",
    "plt.legend(loc=\"upper left\")"
   ]
  },
  {
   "cell_type": "code",
   "execution_count": null,
   "metadata": {},
   "outputs": [],
   "source": []
  }
 ],
 "metadata": {
  "kernelspec": {
   "display_name": "Python 3",
   "language": "python",
   "name": "python3"
  },
  "language_info": {
   "codemirror_mode": {
    "name": "ipython",
    "version": 3
   },
   "file_extension": ".py",
   "mimetype": "text/x-python",
   "name": "python",
   "nbconvert_exporter": "python",
   "pygments_lexer": "ipython3",
   "version": "3.7.1"
  }
 },
 "nbformat": 4,
 "nbformat_minor": 2
}
