{
 "cells": [
  {
   "cell_type": "code",
   "execution_count": 1,
   "metadata": {},
   "outputs": [],
   "source": [
    "import pandas as pd\n",
    "import numpy as np\n",
    "import csv\n",
    "import os\n",
    "import re\n",
    "import matplotlib.pyplot as plt\n",
    "\n",
    "import warnings\n",
    "warnings.filterwarnings('ignore') \n"
   ]
  },
  {
   "cell_type": "code",
   "execution_count": 9,
   "metadata": {},
   "outputs": [],
   "source": [
    "beerbi=pd.read_csv('beerBigram.csv')"
   ]
  },
  {
   "cell_type": "code",
   "execution_count": 10,
   "metadata": {},
   "outputs": [
    {
     "data": {
      "text/html": [
       "<div>\n",
       "<style scoped>\n",
       "    .dataframe tbody tr th:only-of-type {\n",
       "        vertical-align: middle;\n",
       "    }\n",
       "\n",
       "    .dataframe tbody tr th {\n",
       "        vertical-align: top;\n",
       "    }\n",
       "\n",
       "    .dataframe thead th {\n",
       "        text-align: right;\n",
       "    }\n",
       "</style>\n",
       "<table border=\"1\" class=\"dataframe\">\n",
       "  <thead>\n",
       "    <tr style=\"text-align: right;\">\n",
       "      <th></th>\n",
       "      <th>beer1</th>\n",
       "      <th>beer1freq</th>\n",
       "      <th>beer2</th>\n",
       "      <th>beer2freq</th>\n",
       "      <th>beer3</th>\n",
       "      <th>beer3freq</th>\n",
       "      <th>beer4</th>\n",
       "      <th>beer4freq</th>\n",
       "      <th>beer5</th>\n",
       "      <th>beer5freq</th>\n",
       "    </tr>\n",
       "  </thead>\n",
       "  <tbody>\n",
       "    <tr>\n",
       "      <th>0</th>\n",
       "      <td>order beer</td>\n",
       "      <td>209.0</td>\n",
       "      <td>beer select</td>\n",
       "      <td>207.0</td>\n",
       "      <td>beer select</td>\n",
       "      <td>480.0</td>\n",
       "      <td>beer select</td>\n",
       "      <td>910.0</td>\n",
       "      <td>beer select</td>\n",
       "      <td>1103</td>\n",
       "    </tr>\n",
       "    <tr>\n",
       "      <th>1</th>\n",
       "      <td>draft beer</td>\n",
       "      <td>86.0</td>\n",
       "      <td>order beer</td>\n",
       "      <td>118.0</td>\n",
       "      <td>good beer</td>\n",
       "      <td>198.0</td>\n",
       "      <td>beer tap</td>\n",
       "      <td>453.0</td>\n",
       "      <td>craft beer</td>\n",
       "      <td>666</td>\n",
       "    </tr>\n",
       "    <tr>\n",
       "      <th>2</th>\n",
       "      <td>beer select</td>\n",
       "      <td>80.0</td>\n",
       "      <td>draft beer</td>\n",
       "      <td>114.0</td>\n",
       "      <td>beer tap</td>\n",
       "      <td>179.0</td>\n",
       "      <td>craft beer</td>\n",
       "      <td>420.0</td>\n",
       "      <td>great beer</td>\n",
       "      <td>657</td>\n",
       "    </tr>\n",
       "    <tr>\n",
       "      <th>3</th>\n",
       "      <td>one beer</td>\n",
       "      <td>72.0</td>\n",
       "      <td>beer tap</td>\n",
       "      <td>78.0</td>\n",
       "      <td>select beer</td>\n",
       "      <td>159.0</td>\n",
       "      <td>select beer</td>\n",
       "      <td>409.0</td>\n",
       "      <td>beer tap</td>\n",
       "      <td>547</td>\n",
       "    </tr>\n",
       "    <tr>\n",
       "      <th>4</th>\n",
       "      <td>drink beer</td>\n",
       "      <td>68.0</td>\n",
       "      <td>good beer</td>\n",
       "      <td>73.0</td>\n",
       "      <td>draft beer</td>\n",
       "      <td>157.0</td>\n",
       "      <td>good beer</td>\n",
       "      <td>373.0</td>\n",
       "      <td>select beer</td>\n",
       "      <td>410</td>\n",
       "    </tr>\n",
       "    <tr>\n",
       "      <th>5</th>\n",
       "      <td>beer order</td>\n",
       "      <td>67.0</td>\n",
       "      <td>beer list</td>\n",
       "      <td>65.0</td>\n",
       "      <td>craft beer</td>\n",
       "      <td>156.0</td>\n",
       "      <td>great beer</td>\n",
       "      <td>362.0</td>\n",
       "      <td>good beer</td>\n",
       "      <td>367</td>\n",
       "    </tr>\n",
       "    <tr>\n",
       "      <th>6</th>\n",
       "      <td>get beer</td>\n",
       "      <td>64.0</td>\n",
       "      <td>craft beer</td>\n",
       "      <td>59.0</td>\n",
       "      <td>order beer</td>\n",
       "      <td>110.0</td>\n",
       "      <td>draft beer</td>\n",
       "      <td>292.0</td>\n",
       "      <td>beer great</td>\n",
       "      <td>302</td>\n",
       "    </tr>\n",
       "    <tr>\n",
       "      <th>7</th>\n",
       "      <td>bottl beer</td>\n",
       "      <td>53.0</td>\n",
       "      <td>select beer</td>\n",
       "      <td>57.0</td>\n",
       "      <td>beer pong</td>\n",
       "      <td>106.0</td>\n",
       "      <td>root beer</td>\n",
       "      <td>262.0</td>\n",
       "      <td>draft beer</td>\n",
       "      <td>294</td>\n",
       "    </tr>\n",
       "    <tr>\n",
       "      <th>8</th>\n",
       "      <td>beer pong</td>\n",
       "      <td>52.0</td>\n",
       "      <td>get beer</td>\n",
       "      <td>56.0</td>\n",
       "      <td>drink beer</td>\n",
       "      <td>106.0</td>\n",
       "      <td>beer pong</td>\n",
       "      <td>246.0</td>\n",
       "      <td>beer pong</td>\n",
       "      <td>242</td>\n",
       "    </tr>\n",
       "    <tr>\n",
       "      <th>9</th>\n",
       "      <td>ask beer</td>\n",
       "      <td>48.0</td>\n",
       "      <td>drink beer</td>\n",
       "      <td>56.0</td>\n",
       "      <td>great beer</td>\n",
       "      <td>103.0</td>\n",
       "      <td>beer list</td>\n",
       "      <td>204.0</td>\n",
       "      <td>root beer</td>\n",
       "      <td>241</td>\n",
       "    </tr>\n",
       "    <tr>\n",
       "      <th>10</th>\n",
       "      <td>two beer</td>\n",
       "      <td>45.0</td>\n",
       "      <td>beer order</td>\n",
       "      <td>49.0</td>\n",
       "      <td>beer list</td>\n",
       "      <td>101.0</td>\n",
       "      <td>beer wine</td>\n",
       "      <td>177.0</td>\n",
       "      <td>beer list</td>\n",
       "      <td>219</td>\n",
       "    </tr>\n",
       "    <tr>\n",
       "      <th>11</th>\n",
       "      <td>beer tap</td>\n",
       "      <td>45.0</td>\n",
       "      <td>beer good</td>\n",
       "      <td>49.0</td>\n",
       "      <td>root beer</td>\n",
       "      <td>95.0</td>\n",
       "      <td>beer good</td>\n",
       "      <td>172.0</td>\n",
       "      <td>beer wine</td>\n",
       "      <td>217</td>\n",
       "    </tr>\n",
       "    <tr>\n",
       "      <th>12</th>\n",
       "      <td>beer ask</td>\n",
       "      <td>40.0</td>\n",
       "      <td>root beer</td>\n",
       "      <td>47.0</td>\n",
       "      <td>beer good</td>\n",
       "      <td>85.0</td>\n",
       "      <td>cold beer</td>\n",
       "      <td>162.0</td>\n",
       "      <td>cold beer</td>\n",
       "      <td>202</td>\n",
       "    </tr>\n",
       "    <tr>\n",
       "      <th>13</th>\n",
       "      <td>craft beer</td>\n",
       "      <td>38.0</td>\n",
       "      <td>beer pong</td>\n",
       "      <td>43.0</td>\n",
       "      <td>beer menu</td>\n",
       "      <td>67.0</td>\n",
       "      <td>beer menu</td>\n",
       "      <td>155.0</td>\n",
       "      <td>food beer</td>\n",
       "      <td>196</td>\n",
       "    </tr>\n",
       "    <tr>\n",
       "      <th>14</th>\n",
       "      <td>beer good</td>\n",
       "      <td>35.0</td>\n",
       "      <td>bottl beer</td>\n",
       "      <td>40.0</td>\n",
       "      <td>beer batter</td>\n",
       "      <td>66.0</td>\n",
       "      <td>drink beer</td>\n",
       "      <td>155.0</td>\n",
       "      <td>beer good</td>\n",
       "      <td>165</td>\n",
       "    </tr>\n",
       "    <tr>\n",
       "      <th>15</th>\n",
       "      <td>anoth beer</td>\n",
       "      <td>35.0</td>\n",
       "      <td>one beer</td>\n",
       "      <td>40.0</td>\n",
       "      <td>cold beer</td>\n",
       "      <td>65.0</td>\n",
       "      <td>beer great</td>\n",
       "      <td>143.0</td>\n",
       "      <td>taco beer</td>\n",
       "      <td>162</td>\n",
       "    </tr>\n",
       "    <tr>\n",
       "      <th>16</th>\n",
       "      <td>beer menu</td>\n",
       "      <td>31.0</td>\n",
       "      <td>beer food</td>\n",
       "      <td>40.0</td>\n",
       "      <td>get beer</td>\n",
       "      <td>58.0</td>\n",
       "      <td>order beer</td>\n",
       "      <td>134.0</td>\n",
       "      <td>beer food</td>\n",
       "      <td>159</td>\n",
       "    </tr>\n",
       "    <tr>\n",
       "      <th>17</th>\n",
       "      <td>beer cold</td>\n",
       "      <td>31.0</td>\n",
       "      <td>two beer</td>\n",
       "      <td>38.0</td>\n",
       "      <td>beer food</td>\n",
       "      <td>58.0</td>\n",
       "      <td>beer food</td>\n",
       "      <td>116.0</td>\n",
       "      <td>drink beer</td>\n",
       "      <td>143</td>\n",
       "    </tr>\n",
       "    <tr>\n",
       "      <th>18</th>\n",
       "      <td>beer no</td>\n",
       "      <td>31.0</td>\n",
       "      <td>great beer</td>\n",
       "      <td>37.0</td>\n",
       "      <td>beer cold</td>\n",
       "      <td>56.0</td>\n",
       "      <td>beer batter</td>\n",
       "      <td>106.0</td>\n",
       "      <td>wine beer</td>\n",
       "      <td>133</td>\n",
       "    </tr>\n",
       "    <tr>\n",
       "      <th>19</th>\n",
       "      <td>no beer</td>\n",
       "      <td>29.0</td>\n",
       "      <td>beer this</td>\n",
       "      <td>33.0</td>\n",
       "      <td>beer wine</td>\n",
       "      <td>56.0</td>\n",
       "      <td>wine beer</td>\n",
       "      <td>103.0</td>\n",
       "      <td>beer menu</td>\n",
       "      <td>126</td>\n",
       "    </tr>\n",
       "    <tr>\n",
       "      <th>20</th>\n",
       "      <td>free beer</td>\n",
       "      <td>29.0</td>\n",
       "      <td>beer cold</td>\n",
       "      <td>32.0</td>\n",
       "      <td>food beer</td>\n",
       "      <td>53.0</td>\n",
       "      <td>beer chees</td>\n",
       "      <td>103.0</td>\n",
       "      <td>beer this</td>\n",
       "      <td>120</td>\n",
       "    </tr>\n",
       "    <tr>\n",
       "      <th>21</th>\n",
       "      <td>beer food</td>\n",
       "      <td>29.0</td>\n",
       "      <td>beer menu</td>\n",
       "      <td>31.0</td>\n",
       "      <td>beer chees</td>\n",
       "      <td>53.0</td>\n",
       "      <td>food beer</td>\n",
       "      <td>99.0</td>\n",
       "      <td>beer chees</td>\n",
       "      <td>115</td>\n",
       "    </tr>\n",
       "    <tr>\n",
       "      <th>22</th>\n",
       "      <td>got beer</td>\n",
       "      <td>28.0</td>\n",
       "      <td>anoth beer</td>\n",
       "      <td>30.0</td>\n",
       "      <td>decent beer</td>\n",
       "      <td>52.0</td>\n",
       "      <td>free beer</td>\n",
       "      <td>88.0</td>\n",
       "      <td>ginger beer</td>\n",
       "      <td>108</td>\n",
       "    </tr>\n",
       "    <tr>\n",
       "      <th>23</th>\n",
       "      <td>beer bar</td>\n",
       "      <td>28.0</td>\n",
       "      <td>beer batter</td>\n",
       "      <td>28.0</td>\n",
       "      <td>free beer</td>\n",
       "      <td>51.0</td>\n",
       "      <td>ginger beer</td>\n",
       "      <td>83.0</td>\n",
       "      <td>free beer</td>\n",
       "      <td>104</td>\n",
       "    </tr>\n",
       "    <tr>\n",
       "      <th>24</th>\n",
       "      <td>beer list</td>\n",
       "      <td>27.0</td>\n",
       "      <td>burger beer</td>\n",
       "      <td>28.0</td>\n",
       "      <td>beer price</td>\n",
       "      <td>50.0</td>\n",
       "      <td>bottl beer</td>\n",
       "      <td>82.0</td>\n",
       "      <td>beer cold</td>\n",
       "      <td>99</td>\n",
       "    </tr>\n",
       "    <tr>\n",
       "      <th>25</th>\n",
       "      <td>cold beer</td>\n",
       "      <td>27.0</td>\n",
       "      <td>beer price</td>\n",
       "      <td>27.0</td>\n",
       "      <td>coupl beer</td>\n",
       "      <td>48.0</td>\n",
       "      <td>beer cocktail</td>\n",
       "      <td>80.0</td>\n",
       "      <td>best beer</td>\n",
       "      <td>98</td>\n",
       "    </tr>\n",
       "    <tr>\n",
       "      <th>26</th>\n",
       "      <td>grab beer</td>\n",
       "      <td>27.0</td>\n",
       "      <td>beer great</td>\n",
       "      <td>27.0</td>\n",
       "      <td>burger beer</td>\n",
       "      <td>47.0</td>\n",
       "      <td>like beer</td>\n",
       "      <td>79.0</td>\n",
       "      <td>beer float</td>\n",
       "      <td>96</td>\n",
       "    </tr>\n",
       "    <tr>\n",
       "      <th>27</th>\n",
       "      <td>beer glass</td>\n",
       "      <td>27.0</td>\n",
       "      <td>free beer</td>\n",
       "      <td>26.0</td>\n",
       "      <td>beer bar</td>\n",
       "      <td>47.0</td>\n",
       "      <td>burger beer</td>\n",
       "      <td>78.0</td>\n",
       "      <td>order beer</td>\n",
       "      <td>94</td>\n",
       "    </tr>\n",
       "    <tr>\n",
       "      <th>28</th>\n",
       "      <td>beer came</td>\n",
       "      <td>27.0</td>\n",
       "      <td>beer get</td>\n",
       "      <td>25.0</td>\n",
       "      <td>price beer</td>\n",
       "      <td>46.0</td>\n",
       "      <td>brew beer</td>\n",
       "      <td>77.0</td>\n",
       "      <td>amaz beer</td>\n",
       "      <td>93</td>\n",
       "    </tr>\n",
       "    <tr>\n",
       "      <th>29</th>\n",
       "      <td>select beer</td>\n",
       "      <td>27.0</td>\n",
       "      <td>got beer</td>\n",
       "      <td>25.0</td>\n",
       "      <td>beer order</td>\n",
       "      <td>46.0</td>\n",
       "      <td>beer price</td>\n",
       "      <td>74.0</td>\n",
       "      <td>beer drink</td>\n",
       "      <td>93</td>\n",
       "    </tr>\n",
       "    <tr>\n",
       "      <th>...</th>\n",
       "      <td>...</td>\n",
       "      <td>...</td>\n",
       "      <td>...</td>\n",
       "      <td>...</td>\n",
       "      <td>...</td>\n",
       "      <td>...</td>\n",
       "      <td>...</td>\n",
       "      <td>...</td>\n",
       "      <td>...</td>\n",
       "      <td>...</td>\n",
       "    </tr>\n",
       "    <tr>\n",
       "      <th>3803</th>\n",
       "      <td>NaN</td>\n",
       "      <td>NaN</td>\n",
       "      <td>NaN</td>\n",
       "      <td>NaN</td>\n",
       "      <td>NaN</td>\n",
       "      <td>NaN</td>\n",
       "      <td>NaN</td>\n",
       "      <td>NaN</td>\n",
       "      <td>beer scent</td>\n",
       "      <td>1</td>\n",
       "    </tr>\n",
       "    <tr>\n",
       "      <th>3804</th>\n",
       "      <td>NaN</td>\n",
       "      <td>NaN</td>\n",
       "      <td>NaN</td>\n",
       "      <td>NaN</td>\n",
       "      <td>NaN</td>\n",
       "      <td>NaN</td>\n",
       "      <td>NaN</td>\n",
       "      <td>NaN</td>\n",
       "      <td>beer lazi</td>\n",
       "      <td>1</td>\n",
       "    </tr>\n",
       "    <tr>\n",
       "      <th>3805</th>\n",
       "      <td>NaN</td>\n",
       "      <td>NaN</td>\n",
       "      <td>NaN</td>\n",
       "      <td>NaN</td>\n",
       "      <td>NaN</td>\n",
       "      <td>NaN</td>\n",
       "      <td>NaN</td>\n",
       "      <td>NaN</td>\n",
       "      <td>beer kilt</td>\n",
       "      <td>1</td>\n",
       "    </tr>\n",
       "    <tr>\n",
       "      <th>3806</th>\n",
       "      <td>NaN</td>\n",
       "      <td>NaN</td>\n",
       "      <td>NaN</td>\n",
       "      <td>NaN</td>\n",
       "      <td>NaN</td>\n",
       "      <td>NaN</td>\n",
       "      <td>NaN</td>\n",
       "      <td>NaN</td>\n",
       "      <td>orchard beer</td>\n",
       "      <td>1</td>\n",
       "    </tr>\n",
       "    <tr>\n",
       "      <th>3807</th>\n",
       "      <td>NaN</td>\n",
       "      <td>NaN</td>\n",
       "      <td>NaN</td>\n",
       "      <td>NaN</td>\n",
       "      <td>NaN</td>\n",
       "      <td>NaN</td>\n",
       "      <td>NaN</td>\n",
       "      <td>NaN</td>\n",
       "      <td>beer breakfast</td>\n",
       "      <td>1</td>\n",
       "    </tr>\n",
       "    <tr>\n",
       "      <th>3808</th>\n",
       "      <td>NaN</td>\n",
       "      <td>NaN</td>\n",
       "      <td>NaN</td>\n",
       "      <td>NaN</td>\n",
       "      <td>NaN</td>\n",
       "      <td>NaN</td>\n",
       "      <td>NaN</td>\n",
       "      <td>NaN</td>\n",
       "      <td>bill beer</td>\n",
       "      <td>1</td>\n",
       "    </tr>\n",
       "    <tr>\n",
       "      <th>3809</th>\n",
       "      <td>NaN</td>\n",
       "      <td>NaN</td>\n",
       "      <td>NaN</td>\n",
       "      <td>NaN</td>\n",
       "      <td>NaN</td>\n",
       "      <td>NaN</td>\n",
       "      <td>NaN</td>\n",
       "      <td>NaN</td>\n",
       "      <td>rootbear beer</td>\n",
       "      <td>1</td>\n",
       "    </tr>\n",
       "    <tr>\n",
       "      <th>3810</th>\n",
       "      <td>NaN</td>\n",
       "      <td>NaN</td>\n",
       "      <td>NaN</td>\n",
       "      <td>NaN</td>\n",
       "      <td>NaN</td>\n",
       "      <td>NaN</td>\n",
       "      <td>NaN</td>\n",
       "      <td>NaN</td>\n",
       "      <td>beer nicest</td>\n",
       "      <td>1</td>\n",
       "    </tr>\n",
       "    <tr>\n",
       "      <th>3811</th>\n",
       "      <td>NaN</td>\n",
       "      <td>NaN</td>\n",
       "      <td>NaN</td>\n",
       "      <td>NaN</td>\n",
       "      <td>NaN</td>\n",
       "      <td>NaN</td>\n",
       "      <td>NaN</td>\n",
       "      <td>NaN</td>\n",
       "      <td>microbrew rootbeer</td>\n",
       "      <td>1</td>\n",
       "    </tr>\n",
       "    <tr>\n",
       "      <th>3812</th>\n",
       "      <td>NaN</td>\n",
       "      <td>NaN</td>\n",
       "      <td>NaN</td>\n",
       "      <td>NaN</td>\n",
       "      <td>NaN</td>\n",
       "      <td>NaN</td>\n",
       "      <td>NaN</td>\n",
       "      <td>NaN</td>\n",
       "      <td>rootbeer love</td>\n",
       "      <td>1</td>\n",
       "    </tr>\n",
       "    <tr>\n",
       "      <th>3813</th>\n",
       "      <td>NaN</td>\n",
       "      <td>NaN</td>\n",
       "      <td>NaN</td>\n",
       "      <td>NaN</td>\n",
       "      <td>NaN</td>\n",
       "      <td>NaN</td>\n",
       "      <td>NaN</td>\n",
       "      <td>NaN</td>\n",
       "      <td>grant beer</td>\n",
       "      <td>1</td>\n",
       "    </tr>\n",
       "    <tr>\n",
       "      <th>3814</th>\n",
       "      <td>NaN</td>\n",
       "      <td>NaN</td>\n",
       "      <td>NaN</td>\n",
       "      <td>NaN</td>\n",
       "      <td>NaN</td>\n",
       "      <td>NaN</td>\n",
       "      <td>NaN</td>\n",
       "      <td>NaN</td>\n",
       "      <td>solect beer</td>\n",
       "      <td>1</td>\n",
       "    </tr>\n",
       "    <tr>\n",
       "      <th>3815</th>\n",
       "      <td>NaN</td>\n",
       "      <td>NaN</td>\n",
       "      <td>NaN</td>\n",
       "      <td>NaN</td>\n",
       "      <td>NaN</td>\n",
       "      <td>NaN</td>\n",
       "      <td>NaN</td>\n",
       "      <td>NaN</td>\n",
       "      <td>beer site</td>\n",
       "      <td>1</td>\n",
       "    </tr>\n",
       "    <tr>\n",
       "      <th>3816</th>\n",
       "      <td>NaN</td>\n",
       "      <td>NaN</td>\n",
       "      <td>NaN</td>\n",
       "      <td>NaN</td>\n",
       "      <td>NaN</td>\n",
       "      <td>NaN</td>\n",
       "      <td>NaN</td>\n",
       "      <td>NaN</td>\n",
       "      <td>amaz rootbeer</td>\n",
       "      <td>1</td>\n",
       "    </tr>\n",
       "    <tr>\n",
       "      <th>3817</th>\n",
       "      <td>NaN</td>\n",
       "      <td>NaN</td>\n",
       "      <td>NaN</td>\n",
       "      <td>NaN</td>\n",
       "      <td>NaN</td>\n",
       "      <td>NaN</td>\n",
       "      <td>NaN</td>\n",
       "      <td>NaN</td>\n",
       "      <td>rootbeer great</td>\n",
       "      <td>1</td>\n",
       "    </tr>\n",
       "    <tr>\n",
       "      <th>3818</th>\n",
       "      <td>NaN</td>\n",
       "      <td>NaN</td>\n",
       "      <td>NaN</td>\n",
       "      <td>NaN</td>\n",
       "      <td>NaN</td>\n",
       "      <td>NaN</td>\n",
       "      <td>NaN</td>\n",
       "      <td>NaN</td>\n",
       "      <td>card beer</td>\n",
       "      <td>1</td>\n",
       "    </tr>\n",
       "    <tr>\n",
       "      <th>3819</th>\n",
       "      <td>NaN</td>\n",
       "      <td>NaN</td>\n",
       "      <td>NaN</td>\n",
       "      <td>NaN</td>\n",
       "      <td>NaN</td>\n",
       "      <td>NaN</td>\n",
       "      <td>NaN</td>\n",
       "      <td>NaN</td>\n",
       "      <td>marg beer</td>\n",
       "      <td>1</td>\n",
       "    </tr>\n",
       "    <tr>\n",
       "      <th>3820</th>\n",
       "      <td>NaN</td>\n",
       "      <td>NaN</td>\n",
       "      <td>NaN</td>\n",
       "      <td>NaN</td>\n",
       "      <td>NaN</td>\n",
       "      <td>NaN</td>\n",
       "      <td>NaN</td>\n",
       "      <td>NaN</td>\n",
       "      <td>wrap beer</td>\n",
       "      <td>1</td>\n",
       "    </tr>\n",
       "    <tr>\n",
       "      <th>3821</th>\n",
       "      <td>NaN</td>\n",
       "      <td>NaN</td>\n",
       "      <td>NaN</td>\n",
       "      <td>NaN</td>\n",
       "      <td>NaN</td>\n",
       "      <td>NaN</td>\n",
       "      <td>NaN</td>\n",
       "      <td>NaN</td>\n",
       "      <td>beer queen</td>\n",
       "      <td>1</td>\n",
       "    </tr>\n",
       "    <tr>\n",
       "      <th>3822</th>\n",
       "      <td>NaN</td>\n",
       "      <td>NaN</td>\n",
       "      <td>NaN</td>\n",
       "      <td>NaN</td>\n",
       "      <td>NaN</td>\n",
       "      <td>NaN</td>\n",
       "      <td>NaN</td>\n",
       "      <td>NaN</td>\n",
       "      <td>rootbeer also</td>\n",
       "      <td>1</td>\n",
       "    </tr>\n",
       "    <tr>\n",
       "      <th>3823</th>\n",
       "      <td>NaN</td>\n",
       "      <td>NaN</td>\n",
       "      <td>NaN</td>\n",
       "      <td>NaN</td>\n",
       "      <td>NaN</td>\n",
       "      <td>NaN</td>\n",
       "      <td>NaN</td>\n",
       "      <td>NaN</td>\n",
       "      <td>beer across</td>\n",
       "      <td>1</td>\n",
       "    </tr>\n",
       "    <tr>\n",
       "      <th>3824</th>\n",
       "      <td>NaN</td>\n",
       "      <td>NaN</td>\n",
       "      <td>NaN</td>\n",
       "      <td>NaN</td>\n",
       "      <td>NaN</td>\n",
       "      <td>NaN</td>\n",
       "      <td>NaN</td>\n",
       "      <td>NaN</td>\n",
       "      <td>circa beer</td>\n",
       "      <td>1</td>\n",
       "    </tr>\n",
       "    <tr>\n",
       "      <th>3825</th>\n",
       "      <td>NaN</td>\n",
       "      <td>NaN</td>\n",
       "      <td>NaN</td>\n",
       "      <td>NaN</td>\n",
       "      <td>NaN</td>\n",
       "      <td>NaN</td>\n",
       "      <td>NaN</td>\n",
       "      <td>NaN</td>\n",
       "      <td>gd beer</td>\n",
       "      <td>1</td>\n",
       "    </tr>\n",
       "    <tr>\n",
       "      <th>3826</th>\n",
       "      <td>NaN</td>\n",
       "      <td>NaN</td>\n",
       "      <td>NaN</td>\n",
       "      <td>NaN</td>\n",
       "      <td>NaN</td>\n",
       "      <td>NaN</td>\n",
       "      <td>NaN</td>\n",
       "      <td>NaN</td>\n",
       "      <td>kid beer</td>\n",
       "      <td>1</td>\n",
       "    </tr>\n",
       "    <tr>\n",
       "      <th>3827</th>\n",
       "      <td>NaN</td>\n",
       "      <td>NaN</td>\n",
       "      <td>NaN</td>\n",
       "      <td>NaN</td>\n",
       "      <td>NaN</td>\n",
       "      <td>NaN</td>\n",
       "      <td>NaN</td>\n",
       "      <td>NaN</td>\n",
       "      <td>beer pal</td>\n",
       "      <td>1</td>\n",
       "    </tr>\n",
       "    <tr>\n",
       "      <th>3828</th>\n",
       "      <td>NaN</td>\n",
       "      <td>NaN</td>\n",
       "      <td>NaN</td>\n",
       "      <td>NaN</td>\n",
       "      <td>NaN</td>\n",
       "      <td>NaN</td>\n",
       "      <td>NaN</td>\n",
       "      <td>NaN</td>\n",
       "      <td>pal beer</td>\n",
       "      <td>1</td>\n",
       "    </tr>\n",
       "    <tr>\n",
       "      <th>3829</th>\n",
       "      <td>NaN</td>\n",
       "      <td>NaN</td>\n",
       "      <td>NaN</td>\n",
       "      <td>NaN</td>\n",
       "      <td>NaN</td>\n",
       "      <td>NaN</td>\n",
       "      <td>NaN</td>\n",
       "      <td>NaN</td>\n",
       "      <td>beer highlight</td>\n",
       "      <td>1</td>\n",
       "    </tr>\n",
       "    <tr>\n",
       "      <th>3830</th>\n",
       "      <td>NaN</td>\n",
       "      <td>NaN</td>\n",
       "      <td>NaN</td>\n",
       "      <td>NaN</td>\n",
       "      <td>NaN</td>\n",
       "      <td>NaN</td>\n",
       "      <td>NaN</td>\n",
       "      <td>NaN</td>\n",
       "      <td>beer rack</td>\n",
       "      <td>1</td>\n",
       "    </tr>\n",
       "    <tr>\n",
       "      <th>3831</th>\n",
       "      <td>NaN</td>\n",
       "      <td>NaN</td>\n",
       "      <td>NaN</td>\n",
       "      <td>NaN</td>\n",
       "      <td>NaN</td>\n",
       "      <td>NaN</td>\n",
       "      <td>NaN</td>\n",
       "      <td>NaN</td>\n",
       "      <td>beer pbj</td>\n",
       "      <td>1</td>\n",
       "    </tr>\n",
       "    <tr>\n",
       "      <th>3832</th>\n",
       "      <td>NaN</td>\n",
       "      <td>NaN</td>\n",
       "      <td>NaN</td>\n",
       "      <td>NaN</td>\n",
       "      <td>NaN</td>\n",
       "      <td>NaN</td>\n",
       "      <td>NaN</td>\n",
       "      <td>NaN</td>\n",
       "      <td>adult beer</td>\n",
       "      <td>1</td>\n",
       "    </tr>\n",
       "  </tbody>\n",
       "</table>\n",
       "<p>3833 rows × 10 columns</p>\n",
       "</div>"
      ],
      "text/plain": [
       "            beer1  beer1freq        beer2  beer2freq        beer3  beer3freq  \\\n",
       "0      order beer      209.0  beer select      207.0  beer select      480.0   \n",
       "1      draft beer       86.0   order beer      118.0    good beer      198.0   \n",
       "2     beer select       80.0   draft beer      114.0     beer tap      179.0   \n",
       "3        one beer       72.0     beer tap       78.0  select beer      159.0   \n",
       "4      drink beer       68.0    good beer       73.0   draft beer      157.0   \n",
       "5      beer order       67.0    beer list       65.0   craft beer      156.0   \n",
       "6        get beer       64.0   craft beer       59.0   order beer      110.0   \n",
       "7      bottl beer       53.0  select beer       57.0    beer pong      106.0   \n",
       "8       beer pong       52.0     get beer       56.0   drink beer      106.0   \n",
       "9        ask beer       48.0   drink beer       56.0   great beer      103.0   \n",
       "10       two beer       45.0   beer order       49.0    beer list      101.0   \n",
       "11       beer tap       45.0    beer good       49.0    root beer       95.0   \n",
       "12       beer ask       40.0    root beer       47.0    beer good       85.0   \n",
       "13     craft beer       38.0    beer pong       43.0    beer menu       67.0   \n",
       "14      beer good       35.0   bottl beer       40.0  beer batter       66.0   \n",
       "15     anoth beer       35.0     one beer       40.0    cold beer       65.0   \n",
       "16      beer menu       31.0    beer food       40.0     get beer       58.0   \n",
       "17      beer cold       31.0     two beer       38.0    beer food       58.0   \n",
       "18        beer no       31.0   great beer       37.0    beer cold       56.0   \n",
       "19        no beer       29.0    beer this       33.0    beer wine       56.0   \n",
       "20      free beer       29.0    beer cold       32.0    food beer       53.0   \n",
       "21      beer food       29.0    beer menu       31.0   beer chees       53.0   \n",
       "22       got beer       28.0   anoth beer       30.0  decent beer       52.0   \n",
       "23       beer bar       28.0  beer batter       28.0    free beer       51.0   \n",
       "24      beer list       27.0  burger beer       28.0   beer price       50.0   \n",
       "25      cold beer       27.0   beer price       27.0   coupl beer       48.0   \n",
       "26      grab beer       27.0   beer great       27.0  burger beer       47.0   \n",
       "27     beer glass       27.0    free beer       26.0     beer bar       47.0   \n",
       "28      beer came       27.0     beer get       25.0   price beer       46.0   \n",
       "29    select beer       27.0     got beer       25.0   beer order       46.0   \n",
       "...           ...        ...          ...        ...          ...        ...   \n",
       "3803          NaN        NaN          NaN        NaN          NaN        NaN   \n",
       "3804          NaN        NaN          NaN        NaN          NaN        NaN   \n",
       "3805          NaN        NaN          NaN        NaN          NaN        NaN   \n",
       "3806          NaN        NaN          NaN        NaN          NaN        NaN   \n",
       "3807          NaN        NaN          NaN        NaN          NaN        NaN   \n",
       "3808          NaN        NaN          NaN        NaN          NaN        NaN   \n",
       "3809          NaN        NaN          NaN        NaN          NaN        NaN   \n",
       "3810          NaN        NaN          NaN        NaN          NaN        NaN   \n",
       "3811          NaN        NaN          NaN        NaN          NaN        NaN   \n",
       "3812          NaN        NaN          NaN        NaN          NaN        NaN   \n",
       "3813          NaN        NaN          NaN        NaN          NaN        NaN   \n",
       "3814          NaN        NaN          NaN        NaN          NaN        NaN   \n",
       "3815          NaN        NaN          NaN        NaN          NaN        NaN   \n",
       "3816          NaN        NaN          NaN        NaN          NaN        NaN   \n",
       "3817          NaN        NaN          NaN        NaN          NaN        NaN   \n",
       "3818          NaN        NaN          NaN        NaN          NaN        NaN   \n",
       "3819          NaN        NaN          NaN        NaN          NaN        NaN   \n",
       "3820          NaN        NaN          NaN        NaN          NaN        NaN   \n",
       "3821          NaN        NaN          NaN        NaN          NaN        NaN   \n",
       "3822          NaN        NaN          NaN        NaN          NaN        NaN   \n",
       "3823          NaN        NaN          NaN        NaN          NaN        NaN   \n",
       "3824          NaN        NaN          NaN        NaN          NaN        NaN   \n",
       "3825          NaN        NaN          NaN        NaN          NaN        NaN   \n",
       "3826          NaN        NaN          NaN        NaN          NaN        NaN   \n",
       "3827          NaN        NaN          NaN        NaN          NaN        NaN   \n",
       "3828          NaN        NaN          NaN        NaN          NaN        NaN   \n",
       "3829          NaN        NaN          NaN        NaN          NaN        NaN   \n",
       "3830          NaN        NaN          NaN        NaN          NaN        NaN   \n",
       "3831          NaN        NaN          NaN        NaN          NaN        NaN   \n",
       "3832          NaN        NaN          NaN        NaN          NaN        NaN   \n",
       "\n",
       "              beer4  beer4freq               beer5  beer5freq  \n",
       "0       beer select      910.0         beer select       1103  \n",
       "1          beer tap      453.0          craft beer        666  \n",
       "2        craft beer      420.0          great beer        657  \n",
       "3       select beer      409.0            beer tap        547  \n",
       "4         good beer      373.0         select beer        410  \n",
       "5        great beer      362.0           good beer        367  \n",
       "6        draft beer      292.0          beer great        302  \n",
       "7         root beer      262.0          draft beer        294  \n",
       "8         beer pong      246.0           beer pong        242  \n",
       "9         beer list      204.0           root beer        241  \n",
       "10        beer wine      177.0           beer list        219  \n",
       "11        beer good      172.0           beer wine        217  \n",
       "12        cold beer      162.0           cold beer        202  \n",
       "13        beer menu      155.0           food beer        196  \n",
       "14       drink beer      155.0           beer good        165  \n",
       "15       beer great      143.0           taco beer        162  \n",
       "16       order beer      134.0           beer food        159  \n",
       "17        beer food      116.0          drink beer        143  \n",
       "18      beer batter      106.0           wine beer        133  \n",
       "19        wine beer      103.0           beer menu        126  \n",
       "20       beer chees      103.0           beer this        120  \n",
       "21        food beer       99.0          beer chees        115  \n",
       "22        free beer       88.0         ginger beer        108  \n",
       "23      ginger beer       83.0           free beer        104  \n",
       "24       bottl beer       82.0           beer cold         99  \n",
       "25    beer cocktail       80.0           best beer         98  \n",
       "26        like beer       79.0          beer float         96  \n",
       "27      burger beer       78.0          order beer         94  \n",
       "28        brew beer       77.0           amaz beer         93  \n",
       "29       beer price       74.0          beer drink         93  \n",
       "...             ...        ...                 ...        ...  \n",
       "3803            NaN        NaN          beer scent          1  \n",
       "3804            NaN        NaN           beer lazi          1  \n",
       "3805            NaN        NaN           beer kilt          1  \n",
       "3806            NaN        NaN        orchard beer          1  \n",
       "3807            NaN        NaN      beer breakfast          1  \n",
       "3808            NaN        NaN           bill beer          1  \n",
       "3809            NaN        NaN       rootbear beer          1  \n",
       "3810            NaN        NaN         beer nicest          1  \n",
       "3811            NaN        NaN  microbrew rootbeer          1  \n",
       "3812            NaN        NaN       rootbeer love          1  \n",
       "3813            NaN        NaN          grant beer          1  \n",
       "3814            NaN        NaN         solect beer          1  \n",
       "3815            NaN        NaN           beer site          1  \n",
       "3816            NaN        NaN       amaz rootbeer          1  \n",
       "3817            NaN        NaN      rootbeer great          1  \n",
       "3818            NaN        NaN           card beer          1  \n",
       "3819            NaN        NaN           marg beer          1  \n",
       "3820            NaN        NaN           wrap beer          1  \n",
       "3821            NaN        NaN          beer queen          1  \n",
       "3822            NaN        NaN       rootbeer also          1  \n",
       "3823            NaN        NaN         beer across          1  \n",
       "3824            NaN        NaN          circa beer          1  \n",
       "3825            NaN        NaN             gd beer          1  \n",
       "3826            NaN        NaN            kid beer          1  \n",
       "3827            NaN        NaN            beer pal          1  \n",
       "3828            NaN        NaN            pal beer          1  \n",
       "3829            NaN        NaN      beer highlight          1  \n",
       "3830            NaN        NaN           beer rack          1  \n",
       "3831            NaN        NaN            beer pbj          1  \n",
       "3832            NaN        NaN          adult beer          1  \n",
       "\n",
       "[3833 rows x 10 columns]"
      ]
     },
     "execution_count": 10,
     "metadata": {},
     "output_type": "execute_result"
    }
   ],
   "source": [
    "beerbi"
   ]
  },
  {
   "cell_type": "code",
   "execution_count": 13,
   "metadata": {},
   "outputs": [
    {
     "data": {
      "text/plain": [
       "80"
      ]
     },
     "execution_count": 13,
     "metadata": {},
     "output_type": "execute_result"
    }
   ],
   "source": [
    "int(beerbi.loc[beerbi['beer1']=='beer select','beer1freq'])"
   ]
  },
  {
   "cell_type": "code",
   "execution_count": 2,
   "metadata": {},
   "outputs": [],
   "source": [
    "df_star1 = pd.read_csv('df_star1.csv')\n",
    "df_star2 = pd.read_csv('df_star2.csv')\n",
    "df_star3 = pd.read_csv('df_star3.csv')\n",
    "df_star4 = pd.read_csv('df_star4.csv')\n",
    "df_star5 = pd.read_csv('df_star5.csv')"
   ]
  },
  {
   "cell_type": "code",
   "execution_count": 17,
   "metadata": {},
   "outputs": [
    {
     "data": {
      "text/html": [
       "<div>\n",
       "<style scoped>\n",
       "    .dataframe tbody tr th:only-of-type {\n",
       "        vertical-align: middle;\n",
       "    }\n",
       "\n",
       "    .dataframe tbody tr th {\n",
       "        vertical-align: top;\n",
       "    }\n",
       "\n",
       "    .dataframe thead th {\n",
       "        text-align: right;\n",
       "    }\n",
       "</style>\n",
       "<table border=\"1\" class=\"dataframe\">\n",
       "  <thead>\n",
       "    <tr style=\"text-align: right;\">\n",
       "      <th></th>\n",
       "      <th>words</th>\n",
       "      <th>frequency</th>\n",
       "    </tr>\n",
       "  </thead>\n",
       "  <tbody>\n",
       "    <tr>\n",
       "      <th>0</th>\n",
       "      <td>food</td>\n",
       "      <td>20929</td>\n",
       "    </tr>\n",
       "    <tr>\n",
       "      <th>1</th>\n",
       "      <td>no</td>\n",
       "      <td>17211</td>\n",
       "    </tr>\n",
       "    <tr>\n",
       "      <th>2</th>\n",
       "      <td>service</td>\n",
       "      <td>15964</td>\n",
       "    </tr>\n",
       "    <tr>\n",
       "      <th>3</th>\n",
       "      <td>would</td>\n",
       "      <td>15557</td>\n",
       "    </tr>\n",
       "    <tr>\n",
       "      <th>4</th>\n",
       "      <td>get</td>\n",
       "      <td>14431</td>\n",
       "    </tr>\n",
       "    <tr>\n",
       "      <th>5</th>\n",
       "      <td>one</td>\n",
       "      <td>13774</td>\n",
       "    </tr>\n",
       "    <tr>\n",
       "      <th>6</th>\n",
       "      <td>like</td>\n",
       "      <td>13267</td>\n",
       "    </tr>\n",
       "    <tr>\n",
       "      <th>7</th>\n",
       "      <td>NOT_the</td>\n",
       "      <td>13037</td>\n",
       "    </tr>\n",
       "    <tr>\n",
       "      <th>8</th>\n",
       "      <td>NOT_to</td>\n",
       "      <td>12671</td>\n",
       "    </tr>\n",
       "    <tr>\n",
       "      <th>9</th>\n",
       "      <td>time</td>\n",
       "      <td>12140</td>\n",
       "    </tr>\n",
       "  </tbody>\n",
       "</table>\n",
       "</div>"
      ],
      "text/plain": [
       "     words  frequency\n",
       "0     food      20929\n",
       "1       no      17211\n",
       "2  service      15964\n",
       "3    would      15557\n",
       "4      get      14431\n",
       "5      one      13774\n",
       "6     like      13267\n",
       "7  NOT_the      13037\n",
       "8   NOT_to      12671\n",
       "9     time      12140"
      ]
     },
     "execution_count": 17,
     "metadata": {},
     "output_type": "execute_result"
    }
   ],
   "source": [
    "df_star1.head(10)"
   ]
  },
  {
   "cell_type": "code",
   "execution_count": 4,
   "metadata": {},
   "outputs": [
    {
     "data": {
      "text/plain": [
       "<matplotlib.legend.Legend at 0x11511b8d0>"
      ]
     },
     "execution_count": 4,
     "metadata": {},
     "output_type": "execute_result"
    },
    {
     "data": {
      "image/png": "[encoded data removed]",
      "text/plain": [
       "<Figure size 640x400 with 1 Axes>"
      ]
     },
     "metadata": {
      "needs_background": "light"
     },
     "output_type": "display_data"
    }
   ],
   "source": [
    "plt.figure(figsize=(8, 5), dpi=80)\n",
    "fre1=int(df_star1.loc[df_star1['words']=='friendly',:]['frequency'])/4337786\n",
    "fre2=int(df_star2.loc[df_star2['words']=='friendly',:]['frequency'])/3513632\n",
    "fre3=int(df_star3.loc[df_star3['words']=='friendly',:]['frequency'])/4763659\n",
    "fre4=int(df_star4.loc[df_star4['words']=='friendly',:]['frequency'])/8328480\n",
    "fre5=int(df_star5.loc[df_star5['words']=='friendly',:]['frequency'])/10839807\n",
    "\n",
    "num_list = [fre1, fre2, fre3, fre4, fre5]\n",
    "\n",
    "plt.bar(range(1,(len(num_list)+1)), num_list,label=\"friendly\", color=\"#a50055\")\n",
    "\n",
    "plt.xlabel('Stars')\n",
    "plt.ylabel('Frequency')\n",
    "plt.legend(loc=\"upper left\")"
   ]
  },
  {
   "cell_type": "code",
   "execution_count": 5,
   "metadata": {},
   "outputs": [
    {
     "data": {
      "text/plain": [
       "<matplotlib.legend.Legend at 0x1049a90b8>"
      ]
     },
     "execution_count": 5,
     "metadata": {},
     "output_type": "execute_result"
    },
    {
     "data": {
      "image/png": "[encoded data removed]",
      "text/plain": [
       "<Figure size 640x400 with 1 Axes>"
      ]
     },
     "metadata": {
      "needs_background": "light"
     },
     "output_type": "display_data"
    }
   ],
   "source": [
    "plt.figure(figsize=(8, 5), dpi=80)\n",
    "fre1=int(df_star1.loc[df_star1['words']=='waitress',:]['frequency'])/4337786\n",
    "fre2=int(df_star2.loc[df_star2['words']=='waitress',:]['frequency'])/3513632\n",
    "fre3=int(df_star3.loc[df_star3['words']=='waitress',:]['frequency'])/4763659\n",
    "fre4=int(df_star4.loc[df_star4['words']=='waitress',:]['frequency'])/8328480\n",
    "fre5=int(df_star5.loc[df_star5['words']=='waitress',:]['frequency'])/10839807\n",
    "\n",
    "num_list = [fre1, fre2, fre3, fre4, fre5]\n",
    "\n",
    "plt.bar(range(1,(len(num_list)+1)), num_list,label=\"waitress\", color=\"#a50055\")\n",
    "\n",
    "plt.xlabel('Stars')\n",
    "plt.ylabel('Frequency')\n",
    "plt.legend(loc=\"upper right\")"
   ]
  },
  {
   "cell_type": "code",
   "execution_count": 60,
   "metadata": {},
   "outputs": [
    {
     "data": {
      "text/plain": [
       "<matplotlib.legend.Legend at 0x11d6bcd30>"
      ]
     },
     "execution_count": 60,
     "metadata": {},
     "output_type": "execute_result"
    },
    {
     "data": {
      "image/png": "[encoded data removed]",
      "text/plain": [
       "<Figure size 640x400 with 1 Axes>"
      ]
     },
     "metadata": {
      "needs_background": "light"
     },
     "output_type": "display_data"
    }
   ],
   "source": [
    "\n",
    "plt.figure(figsize=(8, 5), dpi=80)\n",
    "fre1=int(df_star1.loc[df_star1['words']=='bartenders',:]['frequency'])/30884\n",
    "fre2=int(df_star2.loc[df_star2['words']=='bartenders',:]['frequency'])/23239\n",
    "fre3=int(df_star3.loc[df_star3['words']=='bartenders',:]['frequency'])/33822\n",
    "fre4=int(df_star4.loc[df_star4['words']=='bartenders',:]['frequency'])/66133\n",
    "fre5=int(df_star5.loc[df_star5['words']=='bartenders',:]['frequency'])/111769\n",
    "\n",
    "num_list = [fre1, fre2, fre3, fre4, fre5]\n",
    "\n",
    "plt.bar(range(1,(len(num_list)+1)), num_list,label=\"bartenders\", color=\"#a50055\")\n",
    "\n",
    "plt.xlabel('Stars')\n",
    "plt.ylabel('Frequency')\n",
    "plt.legend(loc=\"upper right\")"
   ]
  },
  {
   "cell_type": "code",
   "execution_count": 61,
   "metadata": {},
   "outputs": [
    {
     "data": {
      "text/plain": [
       "<matplotlib.legend.Legend at 0x11d6bc828>"
      ]
     },
     "execution_count": 61,
     "metadata": {},
     "output_type": "execute_result"
    },
    {
     "data": {
      "image/png": "[encoded data removed]",
      "text/plain": [
       "<Figure size 640x400 with 1 Axes>"
      ]
     },
     "metadata": {
      "needs_background": "light"
     },
     "output_type": "display_data"
    }
   ],
   "source": [
    "\n",
    "plt.figure(figsize=(8, 5), dpi=80)\n",
    "fre1=int(df_star1.loc[df_star1['words']=='manager',:]['frequency'])/30884\n",
    "fre2=int(df_star2.loc[df_star2['words']=='manager',:]['frequency'])/23239\n",
    "fre3=int(df_star3.loc[df_star3['words']=='manager',:]['frequency'])/33822\n",
    "fre4=int(df_star4.loc[df_star4['words']=='manager',:]['frequency'])/66133\n",
    "fre5=int(df_star5.loc[df_star5['words']=='manager',:]['frequency'])/111769\n",
    "\n",
    "num_list = [fre1, fre2, fre3, fre4, fre5]\n",
    "\n",
    "plt.bar(range(1,(len(num_list)+1)), num_list,label=\"manager\", color=\"#a50055\")\n",
    "\n",
    "plt.xlabel('Stars')\n",
    "plt.ylabel('Frequency')\n",
    "plt.legend(loc=\"upper right\")"
   ]
  },
  {
   "cell_type": "code",
   "execution_count": 90,
   "metadata": {},
   "outputs": [
    {
     "data": {
      "text/plain": [
       "<matplotlib.legend.Legend at 0x11f1715f8>"
      ]
     },
     "execution_count": 90,
     "metadata": {},
     "output_type": "execute_result"
    },
    {
     "data": {
      "image/png": "[encoded data removed]",
      "text/plain": [
       "<Figure size 640x400 with 1 Axes>"
      ]
     },
     "metadata": {
      "needs_background": "light"
     },
     "output_type": "display_data"
    }
   ],
   "source": [
    "\n",
    "plt.figure(figsize=(8, 5), dpi=80)\n",
    "fre1=int(df_star1.loc[df_star1['words']=='crowded',:]['frequency'])/30884\n",
    "fre2=int(df_star2.loc[df_star2['words']=='crowded',:]['frequency'])/23239\n",
    "fre3=int(df_star3.loc[df_star3['words']=='crowded',:]['frequency'])/33822\n",
    "fre4=int(df_star4.loc[df_star4['words']=='crowded',:]['frequency'])/66133\n",
    "fre5=int(df_star5.loc[df_star5['words']=='crowded',:]['frequency'])/111769\n",
    "\n",
    "num_list = [fre1, fre2, fre3, fre4, fre5]\n",
    "\n",
    "plt.bar(range(1,(len(num_list)+1)), num_list,label=\"crowded\", color=\"#a50055\")\n",
    "\n",
    "plt.xlabel('Stars')\n",
    "plt.ylabel('Frequency')\n",
    "plt.legend(loc=\"upper right\")"
   ]
  },
  {
   "cell_type": "code",
   "execution_count": 65,
   "metadata": {},
   "outputs": [
    {
     "data": {
      "text/plain": [
       "<matplotlib.legend.Legend at 0x11dad9f28>"
      ]
     },
     "execution_count": 65,
     "metadata": {},
     "output_type": "execute_result"
    },
    {
     "data": {
      "image/png": "[encoded data removed]",
      "text/plain": [
       "<Figure size 640x400 with 1 Axes>"
      ]
     },
     "metadata": {
      "needs_background": "light"
     },
     "output_type": "display_data"
    }
   ],
   "source": [
    "\n",
    "plt.figure(figsize=(8, 5), dpi=80)\n",
    "fre1=int(df_star1.loc[df_star1['words']=='slow',:]['frequency'])/30884\n",
    "fre2=int(df_star2.loc[df_star2['words']=='slow',:]['frequency'])/23239\n",
    "fre3=int(df_star3.loc[df_star3['words']=='slow',:]['frequency'])/33822\n",
    "fre4=int(df_star4.loc[df_star4['words']=='slow',:]['frequency'])/66133\n",
    "fre5=0\n",
    "\n",
    "num_list = [fre1, fre2, fre3, fre4, fre5]\n",
    "\n",
    "plt.bar(range(1,(len(num_list)+1)), num_list,label=\"slow\", color=\"#a50055\")\n",
    "\n",
    "plt.xlabel('Stars')\n",
    "plt.ylabel('Frequency')\n",
    "plt.legend(loc=\"upper right\")"
   ]
  },
  {
   "cell_type": "code",
   "execution_count": 69,
   "metadata": {},
   "outputs": [
    {
     "data": {
      "text/plain": [
       "<matplotlib.legend.Legend at 0x11dc24f60>"
      ]
     },
     "execution_count": 69,
     "metadata": {},
     "output_type": "execute_result"
    },
    {
     "data": {
      "image/png": "[encoded data removed]",
      "text/plain": [
       "<Figure size 640x400 with 1 Axes>"
      ]
     },
     "metadata": {
      "needs_background": "light"
     },
     "output_type": "display_data"
    }
   ],
   "source": [
    "\n",
    "plt.figure(figsize=(8, 5), dpi=80)\n",
    "fre1=int(df_star1.loc[df_star1['words']=='rude',:]['frequency'])/30884\n",
    "fre2=int(df_star2.loc[df_star2['words']=='rude',:]['frequency'])/23239\n",
    "fre3=int(df_star3.loc[df_star3['words']=='rude',:]['frequency'])/33822\n",
    "fre4=0\n",
    "#int(df_star4.loc[df_star4['words']=='rude',:]['frequency'])/66133\n",
    "fre5=0\n",
    "#int(df_star5.loc[df_star5['words']=='rude',:]['frequency'])/111769\n",
    "\n",
    "\n",
    "num_list = [fre1, fre2, fre3, fre4, fre5]\n",
    "\n",
    "plt.bar(range(1,(len(num_list)+1)), num_list,label=\"rude\", color=\"#a50055\")\n",
    "\n",
    "plt.xlabel('Stars')\n",
    "plt.ylabel('Frequency')\n",
    "plt.legend(loc=\"upper right\")"
   ]
  },
  {
   "cell_type": "code",
   "execution_count": 77,
   "metadata": {},
   "outputs": [
    {
     "data": {
      "text/plain": [
       "<matplotlib.legend.Legend at 0x11de44f28>"
      ]
     },
     "execution_count": 77,
     "metadata": {},
     "output_type": "execute_result"
    },
    {
     "data": {
      "image/png": "[encoded data removed]",
      "text/plain": [
       "<Figure size 640x400 with 1 Axes>"
      ]
     },
     "metadata": {
      "needs_background": "light"
     },
     "output_type": "display_data"
    }
   ],
   "source": [
    "\n",
    "plt.figure(figsize=(8, 5), dpi=80)\n",
    "\n",
    "fre1=int(df_star1.loc[df_star1['words']=='wait',:]['frequency'])/30884\n",
    "fre2=int(df_star2.loc[df_star2['words']=='wait',:]['frequency'])/23239\n",
    "fre3=int(df_star3.loc[df_star3['words']=='wait',:]['frequency'])/33822\n",
    "fre4=int(df_star4.loc[df_star4['words']=='wait',:]['frequency'])/66133\n",
    "fre5=int(df_star5.loc[df_star5['words']=='wait',:]['frequency'])/111769\n",
    "\n",
    "num_list = [fre1, fre2, fre3, fre4, fre5]\n",
    "\n",
    "plt.bar(range(1,(len(num_list)+1)), num_list,label=\"wait\", color=\"#a50055\")\n",
    "\n",
    "plt.xlabel('Stars')\n",
    "plt.ylabel('Frequency')\n",
    "plt.legend(loc=\"upper right\")"
   ]
  },
  {
   "cell_type": "code",
   "execution_count": 78,
   "metadata": {},
   "outputs": [
    {
     "data": {
      "text/plain": [
       "<matplotlib.legend.Legend at 0x11e791080>"
      ]
     },
     "execution_count": 78,
     "metadata": {},
     "output_type": "execute_result"
    },
    {
     "data": {
      "image/png": "[encoded data removed]",
      "text/plain": [
       "<Figure size 640x400 with 1 Axes>"
      ]
     },
     "metadata": {
      "needs_background": "light"
     },
     "output_type": "display_data"
    }
   ],
   "source": [
    "\n",
    "plt.figure(figsize=(8, 5), dpi=80)\n",
    "\n",
    "fre1=int(df_star1.loc[df_star1['words']=='bathroom',:]['frequency'])/30884\n",
    "fre2=int(df_star2.loc[df_star2['words']=='bathroom',:]['frequency'])/23239\n",
    "fre3=int(df_star3.loc[df_star3['words']=='bathroom',:]['frequency'])/33822\n",
    "fre4=int(df_star4.loc[df_star4['words']=='bathroom',:]['frequency'])/66133\n",
    "fre5=int(df_star5.loc[df_star5['words']=='bathroom',:]['frequency'])/111769\n",
    "\n",
    "num_list = [fre1, fre2, fre3, fre4, fre5]\n",
    "\n",
    "plt.bar(range(1,(len(num_list)+1)), num_list,label=\"bathroom\", color=\"#a50055\")\n",
    "\n",
    "plt.xlabel('Stars')\n",
    "plt.ylabel('Frequency')\n",
    "plt.legend(loc=\"upper right\")"
   ]
  },
  {
   "cell_type": "code",
   "execution_count": 79,
   "metadata": {},
   "outputs": [
    {
     "data": {
      "text/plain": [
       "<matplotlib.legend.Legend at 0x11e7918d0>"
      ]
     },
     "execution_count": 79,
     "metadata": {},
     "output_type": "execute_result"
    },
    {
     "data": {
      "image/png": "[encoded data removed]",
      "text/plain": [
       "<Figure size 640x400 with 1 Axes>"
      ]
     },
     "metadata": {
      "needs_background": "light"
     },
     "output_type": "display_data"
    }
   ],
   "source": [
    "plt.figure(figsize=(8, 5), dpi=80)\n",
    "\n",
    "fre1=int(df_star1.loc[df_star1['words']=='location',:]['frequency'])/30884\n",
    "fre2=int(df_star2.loc[df_star2['words']=='location',:]['frequency'])/23239\n",
    "fre3=int(df_star3.loc[df_star3['words']=='location',:]['frequency'])/33822\n",
    "fre4=int(df_star4.loc[df_star4['words']=='location',:]['frequency'])/66133\n",
    "fre5=int(df_star5.loc[df_star5['words']=='location',:]['frequency'])/111769\n",
    "\n",
    "num_list = [fre1, fre2, fre3, fre4, fre5]\n",
    "\n",
    "plt.bar(range(1,(len(num_list)+1)), num_list,label=\"location\", color=\"#a50055\")\n",
    "\n",
    "plt.xlabel('Stars')\n",
    "plt.ylabel('Frequency')\n",
    "plt.legend(loc=\"upper right\")"
   ]
  },
  {
   "cell_type": "code",
   "execution_count": 85,
   "metadata": {},
   "outputs": [
    {
     "data": {
      "text/plain": [
       "<matplotlib.legend.Legend at 0x11ec24c50>"
      ]
     },
     "execution_count": 85,
     "metadata": {},
     "output_type": "execute_result"
    },
    {
     "data": {
      "image/png": "[encoded data removed]",
      "text/plain": [
       "<Figure size 640x400 with 1 Axes>"
      ]
     },
     "metadata": {
      "needs_background": "light"
     },
     "output_type": "display_data"
    }
   ],
   "source": [
    "plt.figure(figsize=(8, 5), dpi=80)\n",
    "\n",
    "fre1=int(df_star1.loc[df_star1['words']=='lobster',:]['frequency'])/30884\n",
    "fre2=int(df_star2.loc[df_star2['words']=='lobster',:]['frequency'])/23239\n",
    "fre3=int(df_star3.loc[df_star3['words']=='lobster',:]['frequency'])/33822\n",
    "fre4=int(df_star4.loc[df_star4['words']=='lobster',:]['frequency'])/66133\n",
    "fre5=int(df_star5.loc[df_star5['words']=='lobster',:]['frequency'])/111769\n",
    "\n",
    "num_list = [fre1, fre2, fre3, fre4, fre5]\n",
    "\n",
    "plt.bar(range(1,(len(num_list)+1)), num_list,label=\"lobster\", color=\"#a50055\")\n",
    "\n",
    "plt.xlabel('Stars')\n",
    "plt.ylabel('Frequency')\n",
    "plt.legend(loc=\"upper right\")"
   ]
  },
  {
   "cell_type": "code",
   "execution_count": 87,
   "metadata": {},
   "outputs": [
    {
     "data": {
      "text/plain": [
       "<matplotlib.legend.Legend at 0x11ef51208>"
      ]
     },
     "execution_count": 87,
     "metadata": {},
     "output_type": "execute_result"
    },
    {
     "data": {
      "image/png": "[encoded data removed]",
      "text/plain": [
       "<Figure size 640x400 with 1 Axes>"
      ]
     },
     "metadata": {
      "needs_background": "light"
     },
     "output_type": "display_data"
    }
   ],
   "source": [
    "\n",
    "plt.figure(figsize=(8, 5), dpi=80)\n",
    "\n",
    "fre1=int(df_star1.loc[df_star1['words']=='burger',:]['frequency'])/30884\n",
    "fre2=int(df_star2.loc[df_star2['words']=='burger',:]['frequency'])/23239\n",
    "fre3=int(df_star3.loc[df_star3['words']=='burger',:]['frequency'])/33822\n",
    "fre4=int(df_star4.loc[df_star4['words']=='burger',:]['frequency'])/66133\n",
    "fre5=int(df_star5.loc[df_star5['words']=='burger',:]['frequency'])/111769\n",
    "\n",
    "num_list = [fre1, fre2, fre3, fre4, fre5]\n",
    "\n",
    "plt.bar(range(1,(len(num_list)+1)), num_list,label=\"burger\", color=\"#a50055\")\n",
    "\n",
    "plt.xlabel('Stars')\n",
    "plt.ylabel('Frequency')\n",
    "plt.legend(loc=\"upper right\")"
   ]
  },
  {
   "cell_type": "code",
   "execution_count": 89,
   "metadata": {},
   "outputs": [
    {
     "data": {
      "text/plain": [
       "<matplotlib.legend.Legend at 0x11f274ac8>"
      ]
     },
     "execution_count": 89,
     "metadata": {},
     "output_type": "execute_result"
    },
    {
     "data": {
      "image/png": "[encoded data removed]",
      "text/plain": [
       "<Figure size 640x400 with 1 Axes>"
      ]
     },
     "metadata": {
      "needs_background": "light"
     },
     "output_type": "display_data"
    }
   ],
   "source": [
    "plt.figure(figsize=(8, 5), dpi=80)\n",
    "\n",
    "fre1=int(df_star1.loc[df_star1['words']=='delicious',:]['frequency'])/30884\n",
    "fre2=int(df_star2.loc[df_star2['words']=='delicious',:]['frequency'])/23239\n",
    "fre3=int(df_star3.loc[df_star3['words']=='delicious',:]['frequency'])/33822\n",
    "fre4=int(df_star4.loc[df_star4['words']=='delicious',:]['frequency'])/66133\n",
    "fre5=int(df_star5.loc[df_star5['words']=='delicious',:]['frequency'])/111769\n",
    "\n",
    "num_list = [fre1, fre2, fre3, fre4, fre5]\n",
    "\n",
    "plt.bar(range(1,(len(num_list)+1)), num_list,label=\"delicious\", color=\"#a50055\")\n",
    "\n",
    "plt.xlabel('Stars')\n",
    "plt.ylabel('Frequency')\n",
    "plt.legend(loc=\"upper left\")"
   ]
  },
  {
   "cell_type": "code",
   "execution_count": 8,
   "metadata": {},
   "outputs": [
    {
     "data": {
      "text/plain": [
       "<matplotlib.legend.Legend at 0x11540fa20>"
      ]
     },
     "execution_count": 8,
     "metadata": {},
     "output_type": "execute_result"
    },
    {
     "data": {
      "image/png": "[encoded data removed]",
      "text/plain": [
       "<Figure size 640x400 with 1 Axes>"
      ]
     },
     "metadata": {
      "needs_background": "light"
     },
     "output_type": "display_data"
    }
   ],
   "source": [
    "plt.figure(figsize=(8, 5), dpi=80)\n",
    "\n",
    "fre1=int(df_star1.loc[df_star1['words']=='salty',:]['frequency'])/30884\n",
    "fre2=int(df_star2.loc[df_star2['words']=='salty',:]['frequency'])/23239\n",
    "fre3=int(df_star3.loc[df_star3['words']=='salty',:]['frequency'])/33822\n",
    "fre4=int(df_star4.loc[df_star4['words']=='salty',:]['frequency'])/66133\n",
    "fre5=0\n",
    "#int(df_star5.loc[df_star5['words']=='salty',:]['frequency'])/111769\n",
    "\n",
    "num_list = [fre1, fre2, fre3, fre4, fre5]\n",
    "\n",
    "plt.bar(range(1,(len(num_list)+1)), num_list,label=\"salty\", color=\"#a50055\")\n",
    "\n",
    "plt.xlabel('Stars')\n",
    "plt.ylabel('Frequency')\n",
    "plt.legend(loc=\"upper left\")"
   ]
  },
  {
   "cell_type": "code",
   "execution_count": 6,
   "metadata": {},
   "outputs": [
    {
     "data": {
      "text/plain": [
       "<matplotlib.legend.Legend at 0x1151bb240>"
      ]
     },
     "execution_count": 6,
     "metadata": {},
     "output_type": "execute_result"
    },
    {
     "data": {
      "image/png": "[encoded data removed]",
      "text/plain": [
       "<Figure size 640x400 with 1 Axes>"
      ]
     },
     "metadata": {
      "needs_background": "light"
     },
     "output_type": "display_data"
    }
   ],
   "source": [
    "plt.figure(figsize=(8, 5), dpi=80)\n",
    "\n",
    "fre1=int(df_star1.loc[df_star1['words']=='beer',:]['frequency'])/4337786\n",
    "fre2=int(df_star2.loc[df_star2['words']=='beer',:]['frequency'])/3513632\n",
    "fre3=int(df_star3.loc[df_star3['words']=='beer',:]['frequency'])/4763659\n",
    "fre4=int(df_star4.loc[df_star4['words']=='beer',:]['frequency'])/8328480\n",
    "fre5=int(df_star5.loc[df_star5['words']=='beer',:]['frequency'])/10839807\n",
    "\n",
    "\n",
    "num_list = [fre1, fre2, fre3, fre4, fre5]\n",
    "\n",
    "plt.bar(range(1,(len(num_list)+1)), num_list,label='beer', color=\"#a50055\")\n",
    "\n",
    "plt.xlabel('Stars')\n",
    "plt.ylabel('Frequency')\n",
    "plt.legend(loc=\"upper left\")"
   ]
  },
  {
   "cell_type": "code",
   "execution_count": 14,
   "metadata": {},
   "outputs": [
    {
     "data": {
      "text/plain": [
       "<matplotlib.legend.Legend at 0x115659c50>"
      ]
     },
     "execution_count": 14,
     "metadata": {},
     "output_type": "execute_result"
    },
    {
     "data": {
      "image/png": "[encoded data removed]",
      "text/plain": [
       "<Figure size 640x400 with 1 Axes>"
      ]
     },
     "metadata": {
      "needs_background": "light"
     },
     "output_type": "display_data"
    }
   ],
   "source": [
    "plt.figure(figsize=(8, 5), dpi=80)\n",
    "\n",
    "fre1=int(beerbi.loc[beerbi['beer1']=='beer select','beer1freq'])/4337786\n",
    "fre2=int(beerbi.loc[beerbi['beer2']=='beer select','beer2freq'])/3513632\n",
    "fre3=int(beerbi.loc[beerbi['beer3']=='beer select','beer3freq'])/4763659\n",
    "fre4=int(beerbi.loc[beerbi['beer4']=='beer select','beer4freq'])/8328480\n",
    "fre5=int(beerbi.loc[beerbi['beer5']=='beer select','beer5freq'])/10839807\n",
    "\n",
    "\n",
    "num_list = [fre1, fre2, fre3, fre4, fre5]\n",
    "\n",
    "plt.bar(range(1,(len(num_list)+1)), num_list,label='beer select', color=\"#a50055\")\n",
    "\n",
    "plt.xlabel('Stars')\n",
    "plt.ylabel('Frequency')\n",
    "plt.legend(loc=\"upper left\")"
   ]
  },
  {
   "cell_type": "code",
   "execution_count": 15,
   "metadata": {},
   "outputs": [
    {
     "data": {
      "text/plain": [
       "<matplotlib.legend.Legend at 0x104057eb8>"
      ]
     },
     "execution_count": 15,
     "metadata": {},
     "output_type": "execute_result"
    },
    {
     "data": {
      "image/png": "[encoded data removed]",
      "text/plain": [
       "<Figure size 640x400 with 1 Axes>"
      ]
     },
     "metadata": {
      "needs_background": "light"
     },
     "output_type": "display_data"
    }
   ],
   "source": [
    "plt.figure(figsize=(8, 5), dpi=80)\n",
    "\n",
    "fre1=int(beerbi.loc[beerbi['beer1']=='craft beer','beer1freq'])/4337786\n",
    "fre2=int(beerbi.loc[beerbi['beer2']=='craft beer','beer2freq'])/3513632\n",
    "fre3=int(beerbi.loc[beerbi['beer3']=='craft beer','beer3freq'])/4763659\n",
    "fre4=int(beerbi.loc[beerbi['beer4']=='craft beer','beer4freq'])/8328480\n",
    "fre5=int(beerbi.loc[beerbi['beer5']=='craft beer','beer5freq'])/10839807\n",
    "\n",
    "\n",
    "num_list = [fre1, fre2, fre3, fre4, fre5]\n",
    "\n",
    "plt.bar(range(1,(len(num_list)+1)), num_list,label='craft beer', color=\"#a50055\")\n",
    "\n",
    "plt.xlabel('Stars')\n",
    "plt.ylabel('Frequency')\n",
    "plt.legend(loc=\"upper left\")"
   ]
  },
  {
   "cell_type": "code",
   "execution_count": 16,
   "metadata": {},
   "outputs": [
    {
     "data": {
      "text/plain": [
       "<matplotlib.legend.Legend at 0x1158b4908>"
      ]
     },
     "execution_count": 16,
     "metadata": {},
     "output_type": "execute_result"
    },
    {
     "data": {
      "image/png": "[encoded data removed]",
      "text/plain": [
       "<Figure size 640x400 with 1 Axes>"
      ]
     },
     "metadata": {
      "needs_background": "light"
     },
     "output_type": "display_data"
    }
   ],
   "source": [
    "plt.figure(figsize=(8, 5), dpi=80)\n",
    "\n",
    "fre1=int(beerbi.loc[beerbi['beer1']=='draft beer','beer1freq'])/4337786\n",
    "fre2=int(beerbi.loc[beerbi['beer2']=='draft beer','beer2freq'])/3513632\n",
    "fre3=int(beerbi.loc[beerbi['beer3']=='draft beer','beer3freq'])/4763659\n",
    "fre4=int(beerbi.loc[beerbi['beer4']=='draft beer','beer4freq'])/8328480\n",
    "fre5=int(beerbi.loc[beerbi['beer5']=='draft beer','beer5freq'])/10839807\n",
    "\n",
    "\n",
    "num_list = [fre1, fre2, fre3, fre4, fre5]\n",
    "\n",
    "plt.bar(range(1,(len(num_list)+1)), num_list,label='draft beer', color=\"#a50055\")\n",
    "\n",
    "plt.xlabel('Stars')\n",
    "plt.ylabel('Frequency')\n",
    "plt.legend(loc=\"upper left\")"
   ]
  },
  {
   "cell_type": "code",
   "execution_count": null,
   "metadata": {},
   "outputs": [],
   "source": []
  }
 ],
 "metadata": {
  "kernelspec": {
   "display_name": "Python 3",
   "language": "python",
   "name": "python3"
  },
  "language_info": {
   "codemirror_mode": {
    "name": "ipython",
    "version": 3
   },
   "file_extension": ".py",
   "mimetype": "text/x-python",
   "name": "python",
   "nbconvert_exporter": "python",
   "pygments_lexer": "ipython3",
   "version": "3.7.1"
  }
 },
 "nbformat": 4,
 "nbformat_minor": 2
}
