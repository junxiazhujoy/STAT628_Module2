{
 "cells": [
  {
   "cell_type": "code",
   "execution_count": 3,
   "metadata": {},
   "outputs": [],
   "source": [
    "import json "
   ]
  },
  {
   "cell_type": "code",
   "execution_count": null,
   "metadata": {},
   "outputs": [],
   "source": [
    "data = [] \n",
    "for line in open('business_train.json', 'r'): \n",
    "    data.append(json.loads(line))"
   ]
  },
  {
   "cell_type": "code",
   "execution_count": null,
   "metadata": {},
   "outputs": [],
   "source": [
    "dat = data"
   ]
  },
  {
   "cell_type": "code",
   "execution_count": null,
   "metadata": {},
   "outputs": [],
   "source": [
    "def fun(KeyString,Diction,newlist): \n",
    "if '{' not in str(Diction[KeyString]): \n",
    "        newlist[KeyString]=str(Diction[KeyString]) \n",
    "else: \n",
    "    d=eval(str(Diction[KeyString])) \n",
    "    for k in d.keys(): \n",
    "        fun(k,d,newlist) \n",

    "for i in range(len(dat)):#len(dat)   \n",
    "    attri=dat[i]['attributes'] \n",
    "    if attri!=None: \n",
    "        newlist={} \n",
    "    for k in attri.keys(): \n",
    "        fun(k,attri,newlist)  \n",
    "dat[i]['attributes_clean']=newlist \n",
            
    "#TODO: cat the names together"
   ]
  }
 ],
 "metadata": {
  "kernelspec": {
   "display_name": "Python 3",
   "language": "python",
   "name": "python3"
  },
  "language_info": {
   "codemirror_mode": {
    "name": "ipython",
    "version": 3
   },
   "file_extension": ".py",
   "mimetype": "text/x-python",
   "name": "python",
   "nbconvert_exporter": "python",
   "pygments_lexer": "ipython3",
   "version": "3.7.0"
  }
 },
 "nbformat": 4,
 "nbformat_minor": 2
}
