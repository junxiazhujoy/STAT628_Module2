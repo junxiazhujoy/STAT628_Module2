{
 "cells": [
  {
   "cell_type": "code",
   "execution_count": 3,
   "metadata": {},
   "outputs": [],
   "source": [
    "import json "
   ]
  },
  {
   "cell_type": "code",
   "execution_count": null,
   "metadata": {},
   "outputs": [],
   "source": [
    "data = [] \n",
    "for line in open('business_train.json', 'r'): \n",
    "    data.append(json.loads(line))"
   ]
  },
  {
   "cell_type": "code",
   "execution_count": null,
   "metadata": {},
   "outputs": [],
   "source": [
    "dat = data"
   ]
  },
  {
   "cell_type": "code",
   "execution_count": null,
   "metadata": {},
   "outputs": [],
   "source": [
    "def fun(KeyString,Diction,newlist):",
    "if '{' not in str(Diction[KeyString]):",
    "        newlist[KeyString]=str(Diction[KeyString])",
    "else:",
    "    d=eval(str(Diction[KeyString]))",
    "    for k in d.keys():",
    "        fun(k,d,newlist)",

    "for i in range(len(dat)):#len(dat)  ",
    "    attri=dat[i]['attributes']",
    "    if attri!=None:",
    "        newlist={}",
    "    for k in attri.keys():",
    "        fun(k,attri,newlist) ",
    "dat[i]['attributes_clean']=newlist",
            
    "#TODO: cat the names together"
   ]
  }
 ],
 "metadata": {
  "kernelspec": {
   "display_name": "Python 3",
   "language": "python",
   "name": "python3"
  },
  "language_info": {
   "codemirror_mode": {
    "name": "ipython",
    "version": 3
   },
   "file_extension": ".py",
   "mimetype": "text/x-python",
   "name": "python",
   "nbconvert_exporter": "python",
   "pygments_lexer": "ipython3",
   "version": "3.7.0"
  }
 },
 "nbformat": 4,
 "nbformat_minor": 2
}
